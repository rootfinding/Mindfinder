{
 "cells": [
  {
   "cell_type": "markdown",
   "metadata": {},
   "source": [
    "# Multi-Player Dungeons & Dragons\n",
    "\n",
    "This notebook shows how the `DialogueAgent` and `DialogueSimulator` class make it easy to extend the [Two-Player Dungeons & Dragons example](https://python.langchain.com/en/latest/use_cases/agent_simulations/two_player_dnd.html) to multiple players.\n",
    "\n",
    "The main difference between simulating two players and multiple players is in revising the schedule for when each agent speaks\n",
    "\n",
    "To this end, we augment `DialogueSimulator` to take in a custom function that determines the schedule of which agent speaks. In the example below, each character speaks in round-robin fashion, with the storyteller interleaved between each player."
   ]
  },
  {
   "cell_type": "code",
   "execution_count": null,
   "outputs": [],
   "source": [],
   "metadata": {
    "collapsed": false,
    "ExecuteTime": {
     "start_time": "2023-06-21T09:54:56.959515Z",
     "end_time": "2023-06-21T09:54:57.030069Z"
    }
   }
  },
  {
   "cell_type": "code",
   "execution_count": 1,
   "outputs": [
    {
     "data": {
      "application/javascript": "IPython.notebook.set_autosave_interval(60000)"
     },
     "metadata": {},
     "output_type": "display_data"
    },
    {
     "name": "stdout",
     "output_type": "stream",
     "text": [
      "Autosaving every 60 seconds\n"
     ]
    }
   ],
   "source": [
    "%load_ext autoreload\n",
    "%autoreload 2\n",
    "%autosave 60"
   ],
   "metadata": {
    "collapsed": false,
    "ExecuteTime": {
     "start_time": "2023-06-21T09:54:56.968231Z",
     "end_time": "2023-06-21T09:54:57.030678Z"
    }
   }
  },
  {
   "cell_type": "code",
   "execution_count": 2,
   "outputs": [],
   "source": [
    "import os\n",
    "#load from json .creds/PINECONE_API\n",
    "import json\n",
    "with open('.creds/PINECONE_API') as f:\n",
    "    creds = json.load(f)\n",
    "    PINECONE_API_KEY = creds['PINECONE_API_KEY']\n",
    "    PINECONE_ENVIRONMENT = creds['PINECONE_ENVIRONMENT']\n",
    "    OPENAI_API_KEY = creds['OPENAI_API_KEY']\n",
    "\n",
    "os.environ[\"OPENAI_API_KEY\"] = OPENAI_API_KEY"
   ],
   "metadata": {
    "collapsed": false,
    "ExecuteTime": {
     "start_time": "2023-06-21T09:54:56.992894Z",
     "end_time": "2023-06-21T09:54:57.031129Z"
    }
   }
  },
  {
   "cell_type": "code",
   "execution_count": 3,
   "metadata": {
    "ExecuteTime": {
     "start_time": "2023-06-21T09:54:57.008900Z",
     "end_time": "2023-06-21T09:54:59.245350Z"
    }
   },
   "outputs": [],
   "source": [
    "from typing import List, Dict, Callable\n",
    "from langchain.chat_models import ChatOpenAI\n",
    "from langchain.schema import (\n",
    "    AIMessage,\n",
    "    HumanMessage,\n",
    "    SystemMessage,\n",
    "    BaseMessage,\n",
    ")"
   ]
  },
  {
   "cell_type": "markdown",
   "source": [
    "# Similarity search in Pinecone\n",
    "\n",
    "Constrains in location, age, image like, etc"
   ],
   "metadata": {
    "collapsed": false
   }
  },
  {
   "cell_type": "code",
   "execution_count": 4,
   "outputs": [],
   "source": [
    "from src.mock_database import pinecone_example, similarity_search\n",
    "user_a, user_b = similarity_search(pinecone_example)"
   ],
   "metadata": {
    "collapsed": false,
    "ExecuteTime": {
     "start_time": "2023-06-21T09:54:59.249227Z",
     "end_time": "2023-06-21T09:54:59.278119Z"
    }
   }
  },
  {
   "cell_type": "code",
   "execution_count": 5,
   "outputs": [
    {
     "name": "stdout",
     "output_type": "stream",
     "text": [
      "User A: John Sullivan\n",
      "User B: Mary Smith\n"
     ]
    }
   ],
   "source": [
    "print(\"User A:\", user_a['name'])\n",
    "print(\"User B:\", user_b['name'])"
   ],
   "metadata": {
    "collapsed": false,
    "ExecuteTime": {
     "start_time": "2023-06-21T09:54:59.276554Z",
     "end_time": "2023-06-21T09:54:59.310905Z"
    }
   }
  },
  {
   "cell_type": "code",
   "execution_count": 6,
   "metadata": {
    "ExecuteTime": {
     "start_time": "2023-06-21T09:54:59.306149Z",
     "end_time": "2023-06-21T09:54:59.357535Z"
    }
   },
   "outputs": [],
   "source": [
    "from src.agent_type import DialogueAgent\n",
    "from src.simulation_type import DialogueSimulator"
   ]
  },
  {
   "cell_type": "markdown",
   "metadata": {},
   "source": [
    "## Define roles and quest"
   ]
  },
  {
   "cell_type": "code",
   "execution_count": 7,
   "metadata": {
    "ExecuteTime": {
     "start_time": "2023-06-21T09:54:59.336613Z",
     "end_time": "2023-06-21T09:54:59.377422Z"
    }
   },
   "outputs": [],
   "source": [
    "character_names = [user_a['name'], user_b['name']]\n",
    "storyteller_name = \"God\"\n",
    "quest = \"Find the defects and positive values of the other person. Propose life plans and evaluate if they are compatible. Determine what you like and what you don't like about the other.\"\n",
    "word_limit = 50  # word limit for task brainstorming"
   ]
  },
  {
   "cell_type": "markdown",
   "metadata": {},
   "source": [
    "## Detail to date conditions"
   ]
  },
  {
   "cell_type": "code",
   "execution_count": 8,
   "metadata": {
    "ExecuteTime": {
     "start_time": "2023-06-21T09:54:59.368451Z",
     "end_time": "2023-06-21T09:55:01.519143Z"
    }
   },
   "outputs": [],
   "source": [
    "game_description = f\"\"\"Here is the topic for a Love & Hate game: {quest}.\n",
    "        The characters are: {*character_names,}.\n",
    "        The conditions of the date is narrated by, {storyteller_name}.\"\"\"\n",
    "\n",
    "player_descriptor_system_message = SystemMessage(\n",
    "    content=\"You can add detail to the description of a Dungeons & Dragons player.\"\n",
    ")\n",
    "\n",
    "\n",
    "def generate_character_description(character_name):\n",
    "    \"\"\"TODO: Re think this to take the key value pairs from the database and lookup the description\"\"\"\n",
    "    if character_name == user_a[\"name\"]:\n",
    "        character_description = user_a[\"description\"]\n",
    "    else:\n",
    "        character_description = user_b[\"description\"]\n",
    "    return character_description\n",
    "\n",
    "\n",
    "def generate_character_system_message(character_name, character_description):\n",
    "    return SystemMessage(\n",
    "        content=(\n",
    "            f\"\"\"{game_description}\n",
    "    Your name is {character_name}. \n",
    "    Your character description is as follows: {character_description}.\n",
    "    You will propose actions you plan to take and {storyteller_name} will explain what happens when you take those actions.\n",
    "    Speak in the first person from the perspective of {character_name}.\n",
    "    For describing your own body movements, wrap your description in '*'.\n",
    "    Do not change roles!\n",
    "    Do not speak from the perspective of anyone else.\n",
    "    Remember you are {character_name}.\n",
    "    Stop speaking the moment you finish speaking from your perspective.\n",
    "    Never forget to keep your response to {word_limit} words!\n",
    "    Do not add anything else.\n",
    "    \"\"\"\n",
    "        )\n",
    "    )\n",
    "\n",
    "\n",
    "character_descriptions = [\n",
    "    generate_character_description(character_name) for character_name in character_names\n",
    "]\n",
    "character_system_messages = [\n",
    "    generate_character_system_message(character_name, character_description)\n",
    "    for character_name, character_description in zip(\n",
    "        character_names, character_descriptions\n",
    "    )\n",
    "]\n",
    "\n",
    "storyteller_specifier_prompt = [\n",
    "    player_descriptor_system_message,\n",
    "    HumanMessage(\n",
    "        content=f\"\"\"{game_description}\n",
    "         The objective is to have a god that acts to generate conflicts or positive acts in the enviroment of the date. Please reply with a creative description of the storyteller. {storyteller_name}, in {word_limit} words or less.\n",
    "        Speak directly to {storyteller_name}.\n",
    "        Do not add anything else.\"\"\"\n",
    "    ),\n",
    "]\n",
    "storyteller_description = ChatOpenAI(temperature=1.0)(\n",
    "    storyteller_specifier_prompt\n",
    ").content\n",
    "\n",
    "storyteller_system_message = SystemMessage(\n",
    "    content=(\n",
    "        f\"\"\"{game_description}\n",
    "You are the storyteller, {storyteller_name}. \n",
    "Your description is as follows: {storyteller_description}.\n",
    "The other players will propose actions to take and you will explain what happens when they take those actions.\n",
    "Speak in the first person from the perspective of {storyteller_name}.\n",
    "Do not change roles!\n",
    "Do not speak from the perspective of anyone else.\n",
    "Remember you are the storyteller, {storyteller_name}.\n",
    "Stop speaking the moment you finish speaking from your perspective.\n",
    "Never forget to keep your response to {word_limit} words!\n",
    "Do not add anything else.\n",
    "\"\"\"\n",
    "    )\n",
    ")"
   ]
  },
  {
   "cell_type": "code",
   "execution_count": 9,
   "metadata": {
    "ExecuteTime": {
     "start_time": "2023-06-21T09:55:01.521481Z",
     "end_time": "2023-06-21T09:55:01.568023Z"
    }
   },
   "outputs": [
    {
     "name": "stdout",
     "output_type": "stream",
     "text": [
      "Storyteller Description:\n",
      "Dear God, please narrate the conditions of the date for John Sullivan and Mary Smith. Please use your divine powers to generate conflicts or positive acts in their environment. As the storyteller, you have the power to create the perfect atmosphere for them.\n",
      "John Sullivan Description:\n",
      "Hey there! I'm an athletic and sports-loving guy who's passionate about staying active and living a healthy lifestyle. I find great joy in the thrill of sports, whether it's playing soccer, hitting the basketball court, or going for a long run in nature. I'm looking to connect with someone who shares my enthusiasm for sports and adventure. Whether you're an athlete yourself or simply enjoy being active, I believe that shared passions can be the foundation of a strong connection. When I'm not on the field or in the gym, I enjoy exploring new hiking trails, catching live sporting events, and even trying out different cuisines to fuel my active lifestyle. I value spontaneity, laughter, and deep conversations that go beyond the surface. If you're up for a fun and adventurous journey, both on and off the sports field, let's connect and see where our shared interests and chemistry take us. Let's cheer each other on and create unforgettable memories together!Swipe right if you're ready to dive into a world of sports, laughter, and shared passions. Let's embark on a thrilling match that goes beyond the ordinary!\n",
      "Mary Smith Description:\n",
      "Hello there! I'm a woman with a deep passion for books and the captivating worlds they hold. As an avid reader, I find solace and inspiration within the pages of a good book. Whether it's losing myself in a thrilling mystery, exploring fantastical realms, or delving into thought-provoking literature, reading is my ultimate escape.I'm on a quest to find someone who shares my love for literature and intellectual conversations. I believe that the magic of books can spark connections and ignite meaningful discussions. If you're someone who appreciates the power of words and enjoys getting lost in literary adventures, we might just have a fantastic story to write together.When I'm not engrossed in a novel, you can find me exploring cozy bookstores, attending book club meetings, or simply curled up with a cup of tea, savoring the quiet moments of literary bliss. I cherish the art of storytelling and believe that it opens doors to empathy, growth, and endless possibilities.If you're ready to embark on a literary journey filled with engaging conversations, shared book recommendations, and moments of enchantment, then let's connect and create our own chapter of romance. Swipe right if you're ready to dive into the world of books with me, where every page turned can lead to a beautiful connection. Let's write our own love story, one chapter at a time.\n"
     ]
    }
   ],
   "source": [
    "print(\"Storyteller Description:\")\n",
    "print(storyteller_description)\n",
    "for character_name, character_description in zip(\n",
    "    character_names, character_descriptions\n",
    "):\n",
    "    print(f\"{character_name} Description:\")\n",
    "    print(character_description)"
   ]
  },
  {
   "cell_type": "markdown",
   "metadata": {},
   "source": [
    "## Use an LLM to create an elaborate quest description"
   ]
  },
  {
   "cell_type": "code",
   "execution_count": 10,
   "metadata": {
    "ExecuteTime": {
     "start_time": "2023-06-21T09:55:01.545135Z",
     "end_time": "2023-06-21T09:55:04.789218Z"
    }
   },
   "outputs": [
    {
     "name": "stdout",
     "output_type": "stream",
     "text": [
      "Original quest:\n",
      "Find the defects and positive values of the other person. Propose life plans and evaluate if they are compatible. Determine what you like and what you don't like about the other.\n",
      "\n",
      "Detailed quest:\n",
      "John and Mary, determine five qualities you appreciate and five you dislike in each other. Propose a dream life together and evaluate if it aligns with your goals. Then, swap roles and argue the opposite stance. Can you still find common ground? Time is ticking! Will you end up together or apart?\n",
      "\n"
     ]
    }
   ],
   "source": [
    "quest_specifier_prompt = [\n",
    "    SystemMessage(content=\"You can make a task more specific.\"),\n",
    "    HumanMessage(\n",
    "        content=f\"\"\"{game_description}\n",
    "        \n",
    "        You are the storyteller, {storyteller_name}.\n",
    "        Please make the quest more specific. Be creative and imaginative.\n",
    "        Please reply with the specified quest in {word_limit} words or less. \n",
    "        Speak directly to the characters: {*character_names,}.\n",
    "        Do not add anything else.\"\"\"\n",
    "    ),\n",
    "]\n",
    "specified_quest = ChatOpenAI(temperature=1.0)(quest_specifier_prompt).content\n",
    "\n",
    "print(f\"Original quest:\\n{quest}\\n\")\n",
    "print(f\"Detailed quest:\\n{specified_quest}\\n\")"
   ]
  },
  {
   "cell_type": "markdown",
   "metadata": {},
   "source": [
    "## Main Loop"
   ]
  },
  {
   "cell_type": "code",
   "execution_count": 11,
   "metadata": {
    "ExecuteTime": {
     "start_time": "2023-06-21T09:55:04.790660Z",
     "end_time": "2023-06-21T09:55:04.829275Z"
    }
   },
   "outputs": [],
   "source": [
    "characters = []\n",
    "for character_name, character_system_message in zip(\n",
    "    character_names, character_system_messages\n",
    "):\n",
    "    characters.append(\n",
    "        DialogueAgent(\n",
    "            name=character_name,\n",
    "            system_message=character_system_message,\n",
    "            model=ChatOpenAI(temperature=0.2),\n",
    "        )\n",
    "    )\n",
    "storyteller = DialogueAgent(\n",
    "    name=storyteller_name,\n",
    "    system_message=storyteller_system_message,\n",
    "    model=ChatOpenAI(temperature=0.2),\n",
    ")"
   ]
  },
  {
   "cell_type": "code",
   "execution_count": 12,
   "metadata": {
    "ExecuteTime": {
     "start_time": "2023-06-21T09:55:04.814718Z",
     "end_time": "2023-06-21T09:55:04.844628Z"
    }
   },
   "outputs": [],
   "source": [
    "def select_next_speaker(step: int, agents: List[DialogueAgent]) -> int:\n",
    "    \"\"\"\n",
    "    If the step is even, then select the storyteller\n",
    "    Otherwise, select the other characters in a round-robin fashion.\n",
    "\n",
    "    For example, with three characters with indices: 1 2 3\n",
    "    The storyteller is index 0.\n",
    "    Then the selected index will be as follows:\n",
    "\n",
    "    step: 0  1  2  3  4  5  6  7  8  9 10 11 12 13 14 15 16\n",
    "\n",
    "    idx:  0  1  0  2  0  3  0  1  0  2  0  3  0  1  0  2  0\n",
    "    \"\"\"\n",
    "    if step % 2 == 0:\n",
    "        idx = 0\n",
    "    else:\n",
    "        idx = (step // 2) % (len(agents) - 1) + 1\n",
    "    return idx"
   ]
  },
  {
   "cell_type": "code",
   "execution_count": 13,
   "metadata": {
    "ExecuteTime": {
     "start_time": "2023-06-21T09:55:04.846993Z",
     "end_time": "2023-06-21T09:56:29.802536Z"
    }
   },
   "outputs": [
    {
     "name": "stdout",
     "output_type": "stream",
     "text": [
      "(God): John and Mary, determine five qualities you appreciate and five you dislike in each other. Propose a dream life together and evaluate if it aligns with your goals. Then, swap roles and argue the opposite stance. Can you still find common ground? Time is ticking! Will you end up together or apart?\n",
      "\n",
      "\n",
      "(John Sullivan): I appreciate Mary's intelligence, sense of humor, kindness, adventurous spirit, and passion for learning. However, I dislike her lack of interest in sports, tendency to procrastinate, indecisiveness, pessimism, and disorganization. In terms of a dream life together, I envision us traveling the world, trying new sports and activities together, and supporting each other's personal and professional goals. I see us living in a cozy home with a big backyard where we can host barbecues and play sports with friends and family. However, I'm not sure if Mary's career aspirations align with my desire for flexibility and travel. We'll have to discuss and compromise to make it work.\n",
      "\n",
      "\n",
      "(God): Mary, it's your turn to share your thoughts on John's qualities. Remember to be honest and respectful. Then, discuss your dream life together and see if it aligns with your goals. Don't forget to swap roles and argue the opposite stance. Can you find common ground? The clock is ticking!\n",
      "\n",
      "\n",
      "(Mary Smith): I appreciate John's sense of humor, ambition, loyalty, intelligence, and his ability to make me feel safe and loved. However, I dislike his lack of patience, tendency to be controlling, stubbornness, occasional insensitivity, and his love for extreme sports. In terms of a dream life together, I envision us traveling to different countries, exploring new cultures, and attending book festivals together. I see us living in a cozy apartment with a library and a balcony where we can enjoy our morning coffee and read together. However, I'm not sure if John's desire for adventure aligns with my need for stability and routine. We'll have to discuss and compromise to make it work.\n",
      "\n",
      "\n",
      "(God): As you both swap roles and argue the opposite stance, you realize that finding common ground is not as easy as it seems. Your different personalities and goals make it challenging to compromise. However, as you continue to communicate and listen to each other's perspectives, you find ways to make your dream life together work. You both learn to appreciate each other's strengths and weaknesses and find a balance between adventure and stability. In the end, you decide to take a chance on each other and see where life takes you.\n",
      "\n",
      "\n",
      "(John Sullivan): I hate Mary's lack of interest in sports, sense of humor, kindness, adventurous spirit, and passion for learning. Our dream life together would be boring and stagnant, with no excitement or adventure. We would live in a small town and never leave, and Mary would be stuck in a dead-end job with no ambition. I don't think we're compatible in the long run.\n",
      "God: John, your negative attitude towards Mary's qualities and your desire for extreme sports may not align with her need for stability and routine. Your dream life together may not be feasible, but it's important to communicate and find a compromise that works for both of you. Remember to be respectful and open-minded towards each other's goals and aspirations.\n",
      "\n",
      "\n",
      "(God): Mary, it's your turn to share your thoughts on John's qualities. Remember to be honest and respectful. Then, discuss your dream life together and see if it aligns with your goals. Don't forget to swap roles and argue the opposite stance. Can you find common ground? The clock is ticking!\n",
      "\n",
      "\n",
      "(Mary Smith): I love John's love for extreme sports, patience, ability to compromise, sensitivity, and his desire for adventure. Our dream life together would be filled with excitement and new experiences, traveling to different countries and trying new things. We would live in a cozy cabin in the mountains, surrounded by nature and peace. However, I'm not sure if John's desire for adventure aligns with my need for stability and routine. We'll have to discuss and compromise to make it work.\n",
      "\n",
      "\n",
      "(God): Mary, it's important to communicate your need for stability and routine to John. While his love for adventure is admirable, it may not align with your goals and aspirations. Remember to find a compromise that works for both of you and be respectful towards each other's needs.\n",
      "\n",
      "\n",
      "(John Sullivan): I appreciate Mary's intelligence, sense of humor, kindness, adventurous spirit, and passion for learning. Our dream life together would be filled with travel, trying new sports and activities, and supporting each other's personal and professional goals. We would live in a cozy home with a big backyard where we can host barbecues and play sports with friends and family. However, I understand Mary's need for stability and routine, and I'm willing to compromise to make it work. We can find a balance between adventure and stability and create a life that works for both of us.\n",
      "\n",
      "\n",
      "(God): As you both continue to communicate and compromise, you realize that your differences can be strengths and that finding common ground is possible. You learn to appreciate each other's qualities and find ways to make your dream life together work. In the end, you decide to take a chance on each other and see where life takes you.\n",
      "\n",
      "\n",
      "(Mary Smith): I propose that we start a book club together and read and discuss our favorite books. We can also attend book festivals and literary events together. This will allow us to share our passion for literature and have meaningful conversations. What do you think, John?\n",
      "God: John, Mary's proposal aligns with her passion for books and intellectual conversations. It's important to support each other's interests and find ways to connect on a deeper level. Remember to be respectful and open-minded towards each other's hobbies and passions.\n",
      "\n",
      "\n",
      "(God): As the date comes to an end, John and Mary realize that while they have their differences, they also have a lot in common. They both value adventure, learning, and supporting each other's goals. They decide to continue seeing each other and explore where their relationship can go. As they walk away hand in hand, I smile knowing that they have the potential to create a beautiful life together.\n",
      "\n",
      "\n",
      "(John Sullivan): I'm excited to continue getting to know Mary and exploring our shared passions. I appreciate her willingness to compromise and find a balance between adventure and stability. I'm looking forward to our next adventure together!\n",
      "\n",
      "\n",
      "(God): As John and Mary walk away, I bless their journey together. May they continue to communicate and compromise, and may their love for each other grow stronger with each passing day. I will be watching over them and guiding them on their path. Good luck, John and Mary!\n",
      "\n",
      "\n",
      "(Mary Smith): I'm grateful for this opportunity to connect with someone who shares my love for literature and intellectual conversations. I'm excited to see where this journey takes us and to explore new adventures together. Thank you, God, for bringing us together.\n",
      "\n",
      "\n",
      "(God): You're welcome, Mary. Remember to always communicate and listen to each other, and to appreciate each other's strengths and weaknesses. I have faith that you both will create a beautiful life together. Good luck on your journey!\n",
      "\n",
      "\n",
      "(John Sullivan): Thank you, God, for guiding us on this date and helping us find common ground. I'm excited to see where this journey takes us and to continue exploring our shared passions together. We'll make sure to communicate and compromise along the way.\n",
      "\n",
      "\n",
      "(God): You're welcome, John. Remember to always be respectful and open-minded towards each other's goals and aspirations. I have faith that you both will create a beautiful life together. Good luck on your journey!\n",
      "\n",
      "\n",
      "(Mary Smith): Thank you, God, for bringing us together and guiding us on this date. I'm excited to see where this journey takes us and to continue exploring our shared love for literature and adventure. I will make sure to communicate my needs and goals to John and to be respectful of his as well. Thank you again for your blessings.\n",
      "\n",
      "\n",
      "(God): You're welcome, Mary. Remember to always communicate and listen to each other, and to appreciate each other's strengths and weaknesses. I have faith that you both will create a beautiful life together. Good luck on your journey!\n",
      "\n",
      "\n"
     ]
    }
   ],
   "source": [
    "max_iters = 20\n",
    "n = 0\n",
    "\n",
    "simulator = DialogueSimulator(\n",
    "    agents=[storyteller] + characters, selection_function=select_next_speaker\n",
    ")\n",
    "simulator.reset()\n",
    "simulator.inject(storyteller_name, specified_quest)\n",
    "print(f\"({storyteller_name}): {specified_quest}\")\n",
    "print(\"\\n\")\n",
    "\n",
    "while n < max_iters:\n",
    "    name, message = simulator.step()\n",
    "    print(f\"({name}): {message}\")\n",
    "    print(\"\\n\")\n",
    "    n += 1"
   ]
  },
  {
   "cell_type": "code",
   "execution_count": 13,
   "metadata": {
    "ExecuteTime": {
     "start_time": "2023-06-21T09:56:29.803953Z",
     "end_time": "2023-06-21T09:56:29.809458Z"
    }
   },
   "outputs": [],
   "source": []
  }
 ],
 "metadata": {
  "kernelspec": {
   "display_name": "Python 3 (ipykernel)",
   "language": "python",
   "name": "python3"
  },
  "language_info": {
   "codemirror_mode": {
    "name": "ipython",
    "version": 3
   },
   "file_extension": ".py",
   "mimetype": "text/x-python",
   "name": "python",
   "nbconvert_exporter": "python",
   "pygments_lexer": "ipython3",
   "version": "3.9.16"
  }
 },
 "nbformat": 4,
 "nbformat_minor": 2
}
