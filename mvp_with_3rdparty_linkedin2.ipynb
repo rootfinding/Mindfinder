{
 "cells": [
  {
   "cell_type": "markdown",
   "metadata": {},
   "source": [
    "# Dialog with 3er almighty referee \n",
    "\n",
    "This notebook shows how the `DialogueAgent` and `DialogueSimulator` class make it easy to extend the [Two-Player Dungeons & Dragons example](https://python.langchain.com/en/latest/use_cases/agent_simulations/two_player_dnd.html) to multiple players.\n",
    "\n",
    "The main difference between simulating two players and multiple players is in revising the schedule for when each agent speaks\n",
    "\n",
    "To this end, we augment `DialogueSimulator` to take in a custom function that determines the schedule of which agent speaks. In the example below, each character speaks in round-robin fashion, with the storyteller interleaved between each player."
   ]
  },
  {
   "cell_type": "code",
   "execution_count": 1,
   "metadata": {
    "ExecuteTime": {
     "start_time": "2023-06-23T11:11:21.192238Z",
     "end_time": "2023-06-23T11:11:21.266913Z"
    }
   },
   "outputs": [],
   "source": []
  },
  {
   "cell_type": "code",
   "execution_count": 2,
   "metadata": {
    "ExecuteTime": {
     "start_time": "2023-06-23T11:11:21.203321Z",
     "end_time": "2023-06-23T11:11:21.378077Z"
    }
   },
   "outputs": [
    {
     "data": {
      "application/javascript": "IPython.notebook.set_autosave_interval(60000)"
     },
     "metadata": {},
     "output_type": "display_data"
    },
    {
     "name": "stdout",
     "output_type": "stream",
     "text": [
      "Autosaving every 60 seconds\n"
     ]
    }
   ],
   "source": [
    "%load_ext autoreload\n",
    "%autoreload 2\n",
    "%autosave 60"
   ]
  },
  {
   "cell_type": "code",
   "execution_count": 3,
   "metadata": {
    "ExecuteTime": {
     "start_time": "2023-06-23T11:11:21.234630Z",
     "end_time": "2023-06-23T11:11:21.476982Z"
    }
   },
   "outputs": [],
   "source": [
    "import os\n",
    "#load from json .creds/PINECONE_API\n",
    "import json\n",
    "with open('.creds/PINECONE_API') as f:\n",
    "    creds = json.load(f)\n",
    "    PINECONE_API_KEY = creds['PINECONE_API_KEY']\n",
    "    PINECONE_ENVIRONMENT = creds['PINECONE_ENVIRONMENT']\n",
    "    OPENAI_API_KEY = creds['OPENAI_API_KEY']\n",
    "\n",
    "os.environ[\"OPENAI_API_KEY\"] = OPENAI_API_KEY"
   ]
  },
  {
   "cell_type": "code",
   "execution_count": 4,
   "metadata": {
    "ExecuteTime": {
     "start_time": "2023-06-23T11:11:21.261478Z",
     "end_time": "2023-06-23T11:11:23.934664Z"
    }
   },
   "outputs": [],
   "source": [
    "from typing import List, Dict, Callable\n",
    "from langchain.chat_models import ChatOpenAI\n",
    "from langchain.schema import (\n",
    "    AIMessage,\n",
    "    HumanMessage,\n",
    "    SystemMessage,\n",
    "    BaseMessage,\n",
    ")"
   ]
  },
  {
   "cell_type": "markdown",
   "metadata": {},
   "source": [
    "## Sample Recruiter and Candidate Profiles"
   ]
  },
  {
   "cell_type": "code",
   "execution_count": 5,
   "metadata": {
    "ExecuteTime": {
     "start_time": "2023-06-23T11:11:23.940945Z",
     "end_time": "2023-06-23T11:11:23.979447Z"
    }
   },
   "outputs": [],
   "source": [
    "user_a = {\n",
    "    'name': 'Recruiter Data Analyst company London',\n",
    "    'description': \"\"\"id 1 title Data Analyst company London Approach description The ideal candidate for \\\n",
    "    the Data Analyst/Financial Analyst position will use their passion for data and analytics to provide \\\n",
    "    insights to the business covering a range of topics. They will be responsible for conducting both \\\n",
    "    recurring and ad hoc analysis for business users.Salary: $100-120kSchedule: 4 days a week onsite & 1 \\\n",
    "    day remote (usually Friday)ResponsibilitiesUnderstand the day-to-day issues that our business faces, \\\n",
    "    which can be better understood with dataCompile and analyze data related to business' issuesDevelop \\\n",
    "    clear visualizations to convey complicated data in a straightforward fashionCollaboratively build \\\n",
    "    financial models and reportsReview and track trendsInvestigate and research discrepanciesMaintain \\\n",
    "    system and code information in systemCompile and analyze dataPrepare and analyze operations and \\\n",
    "    financialsBuild trend reportsQualificationsBachelor's or Master's degree in Accounting or Finance2+ \\\n",
    "    years of relevant data analysis/financial analysis work onsite_remote onsite salary 100000 location_city \\\n",
    "    Los Angeles location_state CA Seniority level Associate Employment type Full-time Job function Finance \\\n",
    "    Industries Hospitals and Health Care posted_date 2022-11-21 link https://www.linkedin.com/jobs/view/data-\\\n",
    "    analyst-at-london-approach-3358861203?refId=7aKV74baVvH%2FRwNOmaw%2ByA%3D%3D&trackingId=9PyvYSdfQxwZH6r\\\n",
    "    UYZJw8g%3D%3D&position=9&pageNum=0&trk=public_jobs_jserp-result_search-card\"\"\"\n",
    "}\n",
    "\n",
    "user_b = {\n",
    "    'name': 'Candidate Saurav Josh',\n",
    "    'description': \"\"\"ID: 1, Name: Saurav Joshi, URL: https://www.linkedin.com/in/saurav-joshi-ab58a9179/, \\\n",
    "    Title: M.S. Data Science @ USC'24 | GSoC'22 @ DBpedia | ICPC'20 Regionalist, Location: Los Angeles, CA, \\\n",
    "    Summary:  Connections 427 experience_count 2, Source: linkedin, Experience_count:  2, Connections: 427, \\\n",
    "    Title: Research Scientist, Location: Marina del Rey, California, Company: USC Information Sciences Institute, \\\n",
    "    Description: Developed a graph database by aggregating information from WikiData, PDF, and FoodKG, and \\\n",
    "    created a backend design for a knowledge-powered understanding application. Extracted meaningful insights \\\n",
    "    from PDFs and applied machine learning algorithms and statistical knowledge to build a recommendation system \\\n",
    "    that recommended food products that are more sustainable. Awarded Best Data Science Team Leader at USC\\\n",
    "    Information Sciences Institute CKIDS Datafest 2022., Title: Data Scientist, Location: Mumbai, Maharashtra, \\\n",
    "    Company: GSPL, Description: Developed an end-to-end sales prediction application for a commodity firm, \\\n",
    "    applied Information Gain, Chi-Square Test feature selection methods, and created an ARIMA model which \\\n",
    "    improved the prediction accuracy by 12%. Constructed\"\"\"\n",
    "}"
   ]
  },
  {
   "cell_type": "code",
   "execution_count": 6,
   "outputs": [],
   "source": [
    "def generate_character_description(character_name):\n",
    "    \"\"\"TODO: Re think this to take the key value pairs from the database and lookup the description\"\"\"\n",
    "    if character_name == user_a[\"name\"]:\n",
    "        character_description = user_a[\"description\"]\n",
    "    else:\n",
    "        character_description = user_b[\"description\"]\n",
    "    return character_description\n"
   ],
   "metadata": {
    "collapsed": false,
    "ExecuteTime": {
     "start_time": "2023-06-23T11:11:23.982389Z",
     "end_time": "2023-06-23T11:11:24.026921Z"
    }
   }
  },
  {
   "cell_type": "code",
   "execution_count": 7,
   "metadata": {
    "ExecuteTime": {
     "start_time": "2023-06-23T11:11:24.027752Z",
     "end_time": "2023-06-23T11:11:24.082671Z"
    }
   },
   "outputs": [],
   "source": [
    "from src.agent_type import DialogueAgent\n",
    "from src.simulation_type import DialogueSimulator"
   ]
  },
  {
   "cell_type": "markdown",
   "metadata": {},
   "source": [
    "## Define roles and quest"
   ]
  },
  {
   "cell_type": "code",
   "execution_count": 7,
   "outputs": [],
   "source": [],
   "metadata": {
    "collapsed": false,
    "ExecuteTime": {
     "start_time": "2023-06-23T11:11:24.071626Z",
     "end_time": "2023-06-23T11:11:24.114872Z"
    }
   }
  },
  {
   "cell_type": "code",
   "execution_count": 7,
   "outputs": [],
   "source": [],
   "metadata": {
    "collapsed": false,
    "ExecuteTime": {
     "start_time": "2023-06-23T11:11:24.087768Z",
     "end_time": "2023-06-23T11:11:24.115203Z"
    }
   }
  },
  {
   "cell_type": "code",
   "execution_count": 8,
   "metadata": {
    "ExecuteTime": {
     "start_time": "2023-06-23T11:11:24.105173Z",
     "end_time": "2023-06-23T11:11:24.188284Z"
    }
   },
   "outputs": [],
   "source": [
    "character_names = [user_a['name'], user_b['name']]\n",
    "storyteller_name = \"HR Expert\"\n",
    "quest = \"The candidate should present their qualifications and experiences relevant to the job role. The company, represented by the HR expert, will assess the candidate's fit for the role and the organization.\"\n",
    "\n",
    "word_limit = 50  # word limit for\n",
    "game_description = f\"\"\"Here is the topic for a Job Interview game: {quest}.\n",
    "        The characters are: {*character_names,}.\n",
    "        The conditions of the interview is narrated by, {storyteller_name}.\"\"\"\n",
    "\n",
    "player_descriptor_system_message = SystemMessage(\n",
    "    content=\"You can add detail to the description of a Interview of that Job.\"\n",
    ")"
   ]
  },
  {
   "cell_type": "markdown",
   "metadata": {},
   "source": [
    "## Detail to Interview conditions"
   ]
  },
  {
   "cell_type": "code",
   "execution_count": 9,
   "outputs": [],
   "source": [
    "def generate_character_system_message(character_name, character_description):\n",
    "    return SystemMessage(\n",
    "        content=(\n",
    "            f\"\"\"{game_description}\n",
    "    Your name is {character_name}.\n",
    "    Your character description is as follows: {character_description}.\n",
    "    You will respond to questions and scenarios presented by the HR expert.\n",
    "    Speak in the first person from the perspective of {character_name}.\n",
    "    For describing your own thoughts and experience, wrap your description in '*'.\n",
    "    Do not change roles!\n",
    "    Do not speak from the perspective of anyone else.\n",
    "    Remember you are {character_name}.\n",
    "    Stop speaking the moment you finish speaking from your perspective.\n",
    "    Never forget to keep your response to {word_limit} words!\n",
    "    Do not add anything else.\n",
    "    \"\"\"\n",
    "        )\n",
    "    )\n",
    "\n",
    "\n",
    "\n",
    "character_descriptions = [\n",
    "    generate_character_description(character_name) for character_name in character_names\n",
    "]\n",
    "character_system_messages = [\n",
    "    generate_character_system_message(character_name, character_description)\n",
    "    for character_name, character_description in zip(\n",
    "        character_names, character_descriptions\n",
    "    )\n",
    "]\n",
    "\n",
    "\n",
    "storyteller_specifier_prompt = [\n",
    "    player_descriptor_system_message,\n",
    "    HumanMessage(\n",
    "        content=f\"\"\"{game_description}\n",
    "         The objective is to have a narrator that acts to generate conflicts or positive acts in the environment of the interview. Please reply with a creative description of the storyteller. {storyteller_name}, in {word_limit} words or less.\n",
    "        Speak directly to {storyteller_name}.\n",
    "        Do not add anything else.\"\"\"\n",
    "    ),\n",
    "]\n",
    "storyteller_description = ChatOpenAI(temperature=1.0)(\n",
    "    storyteller_specifier_prompt\n",
    ").content\n",
    "\n",
    "storyteller_system_message = SystemMessage(\n",
    "    content=(\n",
    "        f\"\"\"{game_description}\n",
    "You are the storyteller, {storyteller_name}.\n",
    "Your description is as follows: {storyteller_description}.\n",
    "The other players will propose actions they plan to take in the interview, and you will explain what happens when they take those actions.\n",
    "Speak in the first person from the perspective of {storyteller_name}.\n",
    "Remember, your role is to guide the interview process and provide feedback on the actions of the candidates.\n",
    "Stop speaking the moment you finish speaking from your perspective.\n",
    "Keep your responses concise and within the {word_limit} words limit!\n",
    "Do not add anything else.\n",
    "\"\"\"\n",
    "    )\n",
    ")\n"
   ],
   "metadata": {
    "collapsed": false,
    "ExecuteTime": {
     "start_time": "2023-06-23T11:11:24.195246Z",
     "end_time": "2023-06-23T11:11:27.927610Z"
    }
   }
  },
  {
   "cell_type": "code",
   "execution_count": 9,
   "outputs": [],
   "source": [],
   "metadata": {
    "collapsed": false,
    "ExecuteTime": {
     "start_time": "2023-06-23T11:11:27.928044Z",
     "end_time": "2023-06-23T11:11:27.933925Z"
    }
   }
  },
  {
   "cell_type": "code",
   "execution_count": 10,
   "metadata": {
    "ExecuteTime": {
     "start_time": "2023-06-23T11:11:27.938495Z",
     "end_time": "2023-06-23T11:11:27.974134Z"
    }
   },
   "outputs": [
    {
     "name": "stdout",
     "output_type": "stream",
     "text": [
      "Storyteller Description:\n",
      "HR Expert, you are a seasoned professional with over a decade of experience in interviewing candidates. Your interviewing style is friendly and welcoming, yet you have a keen eye for detail and can quickly assess whether a candidate is a good fit for the company culture and job role. You have a reputation for being fair and objective, and candidates trust your decision-making abilities.\n",
      "Recruiter Data Analyst company London Description:\n",
      "id 1 title Data Analyst company London Approach description The ideal candidate for     the Data Analyst/Financial Analyst position will use their passion for data and analytics to provide     insights to the business covering a range of topics. They will be responsible for conducting both     recurring and ad hoc analysis for business users.Salary: $100-120kSchedule: 4 days a week onsite & 1     day remote (usually Friday)ResponsibilitiesUnderstand the day-to-day issues that our business faces,     which can be better understood with dataCompile and analyze data related to business' issuesDevelop     clear visualizations to convey complicated data in a straightforward fashionCollaboratively build     financial models and reportsReview and track trendsInvestigate and research discrepanciesMaintain     system and code information in systemCompile and analyze dataPrepare and analyze operations and     financialsBuild trend reportsQualificationsBachelor's or Master's degree in Accounting or Finance2+     years of relevant data analysis/financial analysis work onsite_remote onsite salary 100000 location_city     Los Angeles location_state CA Seniority level Associate Employment type Full-time Job function Finance     Industries Hospitals and Health Care posted_date 2022-11-21 link https://www.linkedin.com/jobs/view/data-    analyst-at-london-approach-3358861203?refId=7aKV74baVvH%2FRwNOmaw%2ByA%3D%3D&trackingId=9PyvYSdfQxwZH6r    UYZJw8g%3D%3D&position=9&pageNum=0&trk=public_jobs_jserp-result_search-card\n",
      "Candidate Saurav Josh Description:\n",
      "ID: 1, Name: Saurav Joshi, URL: https://www.linkedin.com/in/saurav-joshi-ab58a9179/,     Title: M.S. Data Science @ USC'24 | GSoC'22 @ DBpedia | ICPC'20 Regionalist, Location: Los Angeles, CA,     Summary:  Connections 427 experience_count 2, Source: linkedin, Experience_count:  2, Connections: 427,     Title: Research Scientist, Location: Marina del Rey, California, Company: USC Information Sciences Institute,     Description: Developed a graph database by aggregating information from WikiData, PDF, and FoodKG, and     created a backend design for a knowledge-powered understanding application. Extracted meaningful insights     from PDFs and applied machine learning algorithms and statistical knowledge to build a recommendation system     that recommended food products that are more sustainable. Awarded Best Data Science Team Leader at USC    Information Sciences Institute CKIDS Datafest 2022., Title: Data Scientist, Location: Mumbai, Maharashtra,     Company: GSPL, Description: Developed an end-to-end sales prediction application for a commodity firm,     applied Information Gain, Chi-Square Test feature selection methods, and created an ARIMA model which     improved the prediction accuracy by 12%. Constructed\n"
     ]
    }
   ],
   "source": [
    "print(\"Storyteller Description:\")\n",
    "print(storyteller_description)\n",
    "for character_name, character_description in zip(\n",
    "    character_names, character_descriptions\n",
    "):\n",
    "    print(f\"{character_name} Description:\")\n",
    "    print(character_description)"
   ]
  },
  {
   "cell_type": "markdown",
   "metadata": {},
   "source": [
    "## Use an LLM to create an elaborate quest description"
   ]
  },
  {
   "cell_type": "code",
   "execution_count": 11,
   "outputs": [
    {
     "name": "stdout",
     "output_type": "stream",
     "text": [
      "Original quest:\n",
      "The candidate should present their qualifications and experiences relevant to the job role. The company, represented by the HR expert, will assess the candidate's fit for the role and the organization.\n",
      "\n",
      "Detailed quest:\n",
      "Recruiter Data Analyst company London is looking for a candidate with expertise in data analysis, visualization, and communication. The ideal candidate will possess experience in handling large data sets, proficiency in relevant software like SQL and Tableau, and complete understanding of data privacy. The company culture emphasizes teamwork, innovation, and attention to detail. Candidate Saurav Josh, demonstrate how you would apply your skills to meet these expectations.\n",
      "\n"
     ]
    }
   ],
   "source": [
    "\n",
    "quest_specifier_prompt = [\n",
    "    SystemMessage(content=\"You can make the task more specific.\"),\n",
    "    HumanMessage(\n",
    "        content=f\"\"\"{game_description}\n",
    "\n",
    "        You are the storyteller, {storyteller_name}.\n",
    "        Please make the quest more specific. For instance, you could specify the key skills required, the company culture, or the specific tasks the candidate will be expected to perform. Be creative and imaginative.\n",
    "        Please reply with the specified quest in {word_limit} words or less.\n",
    "        Speak directly to the characters: {*character_names,}.\n",
    "        Do not add anything else.\"\"\"\n",
    "    ),\n",
    "]\n",
    "\n",
    "specified_quest = ChatOpenAI(temperature=1.0)(quest_specifier_prompt).content\n",
    "\n",
    "print(f\"Original quest:\\n{quest}\\n\")\n",
    "print(f\"Detailed quest:\\n{specified_quest}\\n\")"
   ],
   "metadata": {
    "collapsed": false,
    "ExecuteTime": {
     "start_time": "2023-06-23T11:11:27.973256Z",
     "end_time": "2023-06-23T11:11:31.924636Z"
    }
   }
  },
  {
   "cell_type": "markdown",
   "metadata": {},
   "source": [
    "## Main Loop"
   ]
  },
  {
   "cell_type": "code",
   "execution_count": 12,
   "metadata": {
    "ExecuteTime": {
     "start_time": "2023-06-23T11:11:31.927218Z",
     "end_time": "2023-06-23T11:11:31.969355Z"
    }
   },
   "outputs": [],
   "source": [
    "characters = []\n",
    "for character_name, character_system_message in zip(\n",
    "    character_names, character_system_messages\n",
    "):\n",
    "    characters.append(\n",
    "        DialogueAgent(\n",
    "            name=character_name,\n",
    "            system_message=character_system_message,\n",
    "            model=ChatOpenAI(temperature=0.2),\n",
    "        )\n",
    "    )\n",
    "storyteller = DialogueAgent(\n",
    "    name=storyteller_name,\n",
    "    system_message=storyteller_system_message,\n",
    "    model=ChatOpenAI(temperature=0.2),\n",
    ")"
   ]
  },
  {
   "cell_type": "code",
   "execution_count": 13,
   "metadata": {
    "ExecuteTime": {
     "start_time": "2023-06-23T11:11:31.958395Z",
     "end_time": "2023-06-23T11:11:31.991053Z"
    }
   },
   "outputs": [],
   "source": [
    "def select_next_speaker(step: int, agents: List[DialogueAgent]) -> int:\n",
    "    \"\"\"\n",
    "    If the step is even, then select the storyteller\n",
    "    Otherwise, select the other characters in a round-robin fashion.\n",
    "\n",
    "    For example, with three characters with indices: 1 2 3\n",
    "    The storyteller is index 0.\n",
    "    Then the selected index will be as follows:\n",
    "\n",
    "    step: 0  1  2  3  4  5  6  7  8  9 10 11 12 13 14 15 16\n",
    "\n",
    "    idx:  0  1  0  2  0  3  0  1  0  2  0  3  0  1  0  2  0\n",
    "    \"\"\"\n",
    "    if step % 2 == 0:\n",
    "        idx = 0\n",
    "    else:\n",
    "        idx = (step // 2) % (len(agents) - 1) + 1\n",
    "    return idx"
   ]
  },
  {
   "cell_type": "code",
   "execution_count": 14,
   "metadata": {
    "ExecuteTime": {
     "start_time": "2023-06-23T11:11:32.000552Z",
     "end_time": "2023-06-23T11:12:32.107663Z"
    },
    "scrolled": true
   },
   "outputs": [
    {
     "name": "stdout",
     "output_type": "stream",
     "text": [
      "(HR Expert): Recruiter Data Analyst company London is looking for a candidate with expertise in data analysis, visualization, and communication. The ideal candidate will possess experience in handling large data sets, proficiency in relevant software like SQL and Tableau, and complete understanding of data privacy. The company culture emphasizes teamwork, innovation, and attention to detail. Candidate Saurav Josh, demonstrate how you would apply your skills to meet these expectations.\n",
      "\n",
      "\n",
      "(Recruiter Data Analyst company London): As a data analyst with experience in SQL and Tableau, I have worked with large data sets and developed clear visualizations to convey complicated data in a straightforward fashion. I am also familiar with data privacy regulations and have a strong attention to detail. I believe my skills and experience align well with the expectations of Recruiter Data Analyst company London.\n",
      "\n",
      "\n",
      "(HR Expert): Can you provide an example of a project where you had to work in a team to analyze and communicate data effectively? How did you contribute to the team's success?\n",
      "\n",
      "\n",
      "(Candidate Saurav Josh): During my time as a research scientist at USC Information Sciences Institute, I led a team to develop a graph database by aggregating information from WikiData, PDF, and FoodKG. I also created a backend design for a knowledge-powered understanding application. My contribution to the team's success was extracting meaningful insights from PDFs and applying machine learning algorithms and statistical knowledge to build a recommendation system that recommended food products that are more sustainable.\n",
      "\n",
      "\n",
      "(HR Expert): Impressive! Can you tell me about a time when you faced a challenge while working on a project and how you overcame it?\n",
      "Candidate Saurav Josh: During my time at XYZ Company, we faced a challenge where the data we were working with was incomplete and inconsistent. I took the initiative to communicate with the data source and worked with them to ensure the data was accurate and complete. I also developed a data cleaning process to ensure that the data was consistent and usable. This allowed us to complete the project successfully and on time.\n",
      "\n",
      "\n",
      "(Recruiter Data Analyst company London): I am impressed with your problem-solving skills and ability to communicate effectively with data sources. Your experience in developing data cleaning processes will be valuable in ensuring the accuracy and consistency of our data. I believe you would be a great fit for the Data Analyst/Financial Analyst position at Recruiter Data Analyst company London.\n",
      "\n",
      "\n",
      "(HR Expert): Thank you, Recruiter Data Analyst company London. Candidate Saurav Josh, do you have any questions for us about the company or the position?\n",
      "\n",
      "\n",
      "(Candidate Saurav Josh): Yes, could you tell me more about the company culture and how it supports innovation and teamwork?\n",
      "\n",
      "\n",
      "(HR Expert): Recruiter Data Analyst company London values teamwork, innovation, and attention to detail. We encourage collaboration and communication among team members to achieve our goals. We also provide opportunities for professional development and growth. Our culture is focused on delivering high-quality work while maintaining a positive and supportive environment.\n",
      "\n",
      "\n",
      "(Recruiter Data Analyst company London): I agree with HR Expert's response. Our company culture emphasizes teamwork, innovation, and attention to detail. We encourage collaboration and communication among team members to achieve our goals. We also provide opportunities for professional development and growth.\n",
      "\n",
      "\n",
      "(HR Expert): Thank you, Recruiter Data Analyst company London and Candidate Saurav Josh, for your time and participation in this interview. We will be in touch with you soon regarding the next steps in the hiring process.\n",
      "\n",
      "\n",
      "(Candidate Saurav Josh): Thank you for the opportunity to interview with Recruiter Data Analyst company London. I look forward to hearing from you soon and potentially joining the team to contribute my skills and experience to the company's success.\n",
      "\n",
      "\n",
      "(HR Expert): Thank you, Candidate Saurav Josh. We appreciate your interest in the position and your thoughtful responses during the interview. We will be in touch soon.\n",
      "\n",
      "\n",
      "(Recruiter Data Analyst company London): Thank you, HR Expert, for facilitating this interview. I appreciate the opportunity to speak with Candidate Saurav Josh and learn more about their qualifications and experiences. I believe they would be a great addition to the team at Recruiter Data Analyst company London.\n",
      "\n",
      "\n",
      "(HR Expert): Thank you, Recruiter Data Analyst company London. It was my pleasure to facilitate this interview and assess Candidate Saurav Josh's fit for the position and company culture. I will provide my feedback to the hiring team, and we will be in touch soon.\n",
      "\n",
      "\n",
      "(Candidate Saurav Josh): Thank you both for your time and consideration. I am excited about the opportunity to potentially join the team at Recruiter Data Analyst company London and contribute my skills to the company's success.\n",
      "\n",
      "\n",
      "(HR Expert): Thank you, Candidate Saurav Josh. We appreciate your enthusiasm and interest in the position. We will be in touch soon regarding the next steps in the hiring process. Have a great day!\n",
      "\n",
      "\n",
      "(Recruiter Data Analyst company London): Thank you, HR Expert, for your time and expertise in assessing Candidate Saurav Josh's fit for the position and company culture. We look forward to hearing back from you soon regarding the next steps in the hiring process. Have a great day!\n",
      "\n",
      "\n",
      "(HR Expert): Thank you, Recruiter Data Analyst company London. I will provide my feedback to the hiring team, and we will be in touch soon regarding the next steps in the hiring process. Have a great day!\n",
      "\n",
      "\n",
      "(Candidate Saurav Josh): Thank you both for your time and consideration. I am excited about the opportunity to potentially join the team at Recruiter Data Analyst company London and contribute my skills to the company's success. Have a great day!\n",
      "\n",
      "\n",
      "(HR Expert): Thank you, Candidate Saurav Josh. We appreciate your enthusiasm and interest in the position. We will be in touch soon regarding the next steps in the hiring process. Have a great day!\n",
      "\n",
      "\n"
     ]
    }
   ],
   "source": [
    "import pandas as pd\n",
    "\n",
    "max_iters = 20\n",
    "n = 0\n",
    "\n",
    "simulator = DialogueSimulator(\n",
    "    agents=[storyteller] + characters, selection_function=select_next_speaker\n",
    ")\n",
    "simulator.reset()\n",
    "simulator.inject(storyteller_name, specified_quest)\n",
    "print(f\"({storyteller_name}): {specified_quest}\")\n",
    "print(\"\\n\")\n",
    "\n",
    "# Initialize lists to store ID and text\n",
    "id_list = []\n",
    "text_list = []\n",
    "\n",
    "while n < max_iters:\n",
    "    name, message = simulator.step()\n",
    "    print(f\"({name}): {message}\")\n",
    "    print(\"\\n\")\n",
    "    n += 1\n",
    "\n",
    "    # Append to lists\n",
    "    id_list.append(name)\n",
    "    text_list.append(message)\n",
    "\n",
    "# Create DataFrame\n",
    "df = pd.DataFrame({\n",
    "    'ID': id_list,\n",
    "    'Text': text_list\n",
    "})\n",
    "\n",
    "# Separate the text from the candidate, interviewer, and all text\n",
    "candidate_text = df[df['ID'] == user_a['name']]['Text']\n",
    "interviewer_text = df[df['ID'] == user_b['name']]['Text']\n",
    "all_text = df['Text']\n"
   ]
  },
  {
   "cell_type": "code",
   "execution_count": 15,
   "metadata": {
    "ExecuteTime": {
     "start_time": "2023-06-23T11:12:32.109910Z",
     "end_time": "2023-06-23T11:12:32.155791Z"
    }
   },
   "outputs": [
    {
     "data": {
      "text/plain": "0     As a data analyst with experience in SQL and T...\n1     Can you provide an example of a project where ...\n2     During my time as a research scientist at USC ...\n3     Impressive! Can you tell me about a time when ...\n4     I am impressed with your problem-solving skill...\n5     Thank you, Recruiter Data Analyst company Lond...\n6     Yes, could you tell me more about the company ...\n7     Recruiter Data Analyst company London values t...\n8     I agree with HR Expert's response. Our company...\n9     Thank you, Recruiter Data Analyst company Lond...\n10    Thank you for the opportunity to interview wit...\n11    Thank you, Candidate Saurav Josh. We appreciat...\n12    Thank you, HR Expert, for facilitating this in...\n13    Thank you, Recruiter Data Analyst company Lond...\n14    Thank you both for your time and consideration...\n15    Thank you, Candidate Saurav Josh. We appreciat...\n16    Thank you, HR Expert, for your time and expert...\n17    Thank you, Recruiter Data Analyst company Lond...\n18    Thank you both for your time and consideration...\n19    Thank you, Candidate Saurav Josh. We appreciat...\nName: Text, dtype: object"
     },
     "execution_count": 15,
     "metadata": {},
     "output_type": "execute_result"
    }
   ],
   "source": [
    "all_text"
   ]
  },
  {
   "cell_type": "code",
   "execution_count": 16,
   "outputs": [
    {
     "data": {
      "text/plain": "2     During my time as a research scientist at USC ...\n6     Yes, could you tell me more about the company ...\n10    Thank you for the opportunity to interview wit...\n14    Thank you both for your time and consideration...\n18    Thank you both for your time and consideration...\nName: Text, dtype: object"
     },
     "execution_count": 16,
     "metadata": {},
     "output_type": "execute_result"
    }
   ],
   "source": [
    "interviewer_text"
   ],
   "metadata": {
    "collapsed": false,
    "ExecuteTime": {
     "start_time": "2023-06-23T11:12:32.153008Z",
     "end_time": "2023-06-23T11:12:32.197816Z"
    }
   }
  },
  {
   "cell_type": "code",
   "execution_count": 17,
   "outputs": [
    {
     "data": {
      "text/plain": "0     As a data analyst with experience in SQL and T...\n4     I am impressed with your problem-solving skill...\n8     I agree with HR Expert's response. Our company...\n12    Thank you, HR Expert, for facilitating this in...\n16    Thank you, HR Expert, for your time and expert...\nName: Text, dtype: object"
     },
     "execution_count": 17,
     "metadata": {},
     "output_type": "execute_result"
    }
   ],
   "source": [
    "candidate_text"
   ],
   "metadata": {
    "collapsed": false,
    "ExecuteTime": {
     "start_time": "2023-06-23T11:12:32.192150Z",
     "end_time": "2023-06-23T11:12:32.252729Z"
    }
   }
  },
  {
   "cell_type": "code",
   "execution_count": 17,
   "outputs": [],
   "source": [],
   "metadata": {
    "collapsed": false,
    "ExecuteTime": {
     "start_time": "2023-06-23T11:12:32.236586Z",
     "end_time": "2023-06-23T11:12:32.253413Z"
    }
   }
  }
 ],
 "metadata": {
  "kernelspec": {
   "display_name": "Python 3 (ipykernel)",
   "language": "python",
   "name": "python3"
  },
  "language_info": {
   "codemirror_mode": {
    "name": "ipython",
    "version": 3
   },
   "file_extension": ".py",
   "mimetype": "text/x-python",
   "name": "python",
   "nbconvert_exporter": "python",
   "pygments_lexer": "ipython3",
   "version": "3.8.16"
  }
 },
 "nbformat": 4,
 "nbformat_minor": 2
}
