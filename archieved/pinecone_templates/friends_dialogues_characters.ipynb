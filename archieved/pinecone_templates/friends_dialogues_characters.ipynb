{
 "cells": [
  {
   "cell_type": "code",
   "execution_count": null,
   "outputs": [],
   "source": [
    "import os\n",
    "import pinecone\n",
    "import json\n",
    "with open('../.creds') as f:\n",
    "    creds = json.load(f)\n",
    "    PINECONE_API_KEY = creds['PINECONE_API_KEY']\n",
    "    PINECONE_ENVIRONMENT = creds['PINECONE_ENVIRONMENT']\n",
    "    OPENAI_API_KEY = creds['OPENAI_API_KEY']\n",
    "\n",
    "os.environ[\"OPENAI_API_KEY\"] = OPENAI_API_KEY"
   ],
   "metadata": {
    "collapsed": false,
    "pycharm": {
     "name": "#%%\n"
    }
   }
  },
  {
   "cell_type": "code",
   "execution_count": null,
   "outputs": [],
   "source": [
    "dialogues_f = \"../data/friends_dialogues/dialogues.csv\"\n",
    "\n",
    "import csv\n",
    "import json\n",
    "\n",
    "# Define a dictionary to hold the concatenated lines\n",
    "dialogues = {}\n",
    "\n",
    "# Read the CSV file\n",
    "with open(dialogues_f, 'r') as csvfile:\n",
    "    reader = csv.DictReader(csvfile)\n",
    "    for row in reader:\n",
    "        if 'S01' in row['filename']:\n",
    "            if row['character'] in dialogues:\n",
    "                dialogues[row['character']] += '  ' + row['dialogue']\n",
    "            else:\n",
    "                dialogues[row['character']] = row['dialogue']\n",
    "\n",
    "# Convert to the desired JSON format\n",
    "output = []\n",
    "for character, dialogue in dialogues.items():\n",
    "    output.append({\n",
    "        'character': character,\n",
    "        'concatenated_lines': dialogue\n",
    "    })"
   ],
   "metadata": {
    "collapsed": false,
    "pycharm": {
     "name": "#%%\n"
    }
   }
  },
  {
   "cell_type": "code",
   "execution_count": null,
   "outputs": [],
   "source": [
    "from langchain.embeddings.openai import OpenAIEmbeddings\n",
    "\n",
    "model_name = 'text-embedding-ada-002'\n",
    "\n",
    "embed = OpenAIEmbeddings(\n",
    "    model=model_name,\n",
    "    openai_api_key=OPENAI_API_KEY\n",
    ")"
   ],
   "metadata": {
    "collapsed": false,
    "pycharm": {
     "name": "#%%\n"
    }
   }
  },
  {
   "cell_type": "code",
   "execution_count": null,
   "outputs": [],
   "source": [
    "index_name = 'linkedin'\n",
    "\n",
    "pinecone.init(\n",
    "    api_key=PINECONE_API_KEY,\n",
    "    environment=PINECONE_ENVIRONMENT\n",
    ")\n",
    "\n",
    "if index_name not in pinecone.list_indexes():\n",
    "    print(\"creating\")\n",
    "    pinecone.create_index(\n",
    "        name=index_name,\n",
    "        metric='cosine',\n",
    "        dimension=1536\n",
    "    )\n",
    "\n",
    "index = pinecone.GRPCIndex(index_name)\n",
    "print(index)\n",
    "index.describe_index_stats()\n"
   ],
   "metadata": {
    "collapsed": false,
    "pycharm": {
     "name": "#%%\n"
    }
   }
  },
  {
   "cell_type": "code",
   "execution_count": null,
   "outputs": [],
   "source": [
    "from langchain.text_splitter import RecursiveCharacterTextSplitter\n",
    "import tiktoken\n",
    "\n",
    "tokenizer = tiktoken.get_encoding('cl100k_base')\n",
    "\n",
    "def tiktoken_len(text):\n",
    "    tokens = tokenizer.encode(\n",
    "        text,\n",
    "        disallowed_special=()\n",
    "    )\n",
    "    return len(tokens)\n",
    "\n",
    "text_splitter = RecursiveCharacterTextSplitter(\n",
    "    chunk_size=400,\n",
    "    chunk_overlap=20,\n",
    "    length_function=tiktoken_len,\n",
    "    separators=[\"\\n\\n\", \"\\n\", \" \", \"\"]\n",
    ")"
   ],
   "metadata": {
    "collapsed": false,
    "pycharm": {
     "name": "#%%\n"
    }
   }
  },
  {
   "cell_type": "code",
   "execution_count": null,
   "outputs": [],
   "source": [
    "from uuid import uuid4\n",
    "import sys\n",
    "\n",
    "batch_limit = 200\n",
    "\n",
    "texts = []\n",
    "metadatas = []\n",
    "\n",
    "\n",
    "for i, record in enumerate(output):\n",
    "    # first get metadata fields for this record\n",
    "    metadata = {\n",
    "        'id': i,\n",
    "        'character': str(record['character']),\n",
    "        'type': 'character',\n",
    "        'source':'friends'\n",
    "    }\n",
    "    print(metadata)\n",
    "\n",
    "    record_texts = text_splitter.split_text(str(record['concatenated_lines']))\n",
    "\n",
    "    print(\"*\"*20)\n",
    "\n",
    "    record_metadatas = [{\n",
    "        \"chunk\": j, \"text\": text, **metadata\n",
    "    } for j, text in enumerate(record_texts)]\n",
    "\n",
    "    texts.extend(record_texts)\n",
    "    metadatas.extend(record_metadatas)\n",
    "    print(\"*\"*20)\n",
    "    # if we have reached the batch_limit we can add texts\n",
    "\n",
    "    print(len(texts))\n",
    "    if len(texts) >= batch_limit:\n",
    "        ids = [str(uuid4()) for _ in range(len(texts))]\n",
    "        embeds = embed.embed_documents(texts)\n",
    "        index.upsert(vectors=zip(ids, embeds, metadatas), namespace='friends')\n",
    "        texts = []\n",
    "        metadatas = []\n",
    "\n",
    "print(len(texts))\n",
    "if len(texts) > 0:\n",
    "    ids = [str(uuid4()) for _ in range(len(texts))]\n",
    "    embeds = embed.embed_documents(texts)\n",
    "    index.upsert(vectors=zip(ids, embeds, metadatas), namespace='friends')"
   ],
   "metadata": {
    "collapsed": false,
    "pycharm": {
     "name": "#%%\n"
    }
   }
  },
  {
   "cell_type": "code",
   "execution_count": null,
   "outputs": [],
   "source": [
    "print(\"Finished\")"
   ],
   "metadata": {
    "collapsed": false,
    "pycharm": {
     "name": "#%%\n"
    }
   }
  },
  {
   "cell_type": "code",
   "execution_count": null,
   "outputs": [],
   "source": [
    "index.describe_index_stats()"
   ],
   "metadata": {
    "collapsed": false,
    "pycharm": {
     "name": "#%%\n"
    }
   }
  },
  {
   "cell_type": "code",
   "execution_count": null,
   "outputs": [],
   "source": [
    "query_text = \"Extremely allergic, okay? If I'm anywhere near a dog for more than 5 minutes, my throat will just close up!\"\n",
    "query_vector = embed.embed_documents([query_text])[0]\n",
    "\n",
    "query_results = index.query(\n",
    "    vector=query_vector,\n",
    "    filter={\n",
    "        \"source\": {\"$eq\": \"friends\"},\n",
    "        \"type\": {\"$eq\": \"character\"}\n",
    "    },\n",
    "    top_k=3,\n",
    "    include_metadata=True,\n",
    "    namespace=\"friends\"\n",
    ")\n"
   ],
   "metadata": {
    "collapsed": false,
    "pycharm": {
     "name": "#%%\n"
    }
   }
  },
  {
   "cell_type": "code",
   "execution_count": 16,
   "outputs": [
    {
     "name": "stdout",
     "output_type": "stream",
     "text": [
      "{'matches': [{'id': 'd81d9c9c-4bb4-47e1-9a4c-ddb319ead056',\n",
      "              'metadata': {'character': 'Joey',\n",
      "                           'chunk': 14.0,\n",
      "                           'id': 4.0,\n",
      "                           'source': 'friends',\n",
      "                           'text': 'Young?  Would you let it go Ross. It was '\n",
      "                                   \"just a dream. It doesn't mean...  All \"\n",
      "                                   'right, relax, relax. Just relax, just '\n",
      "                                   'relax. Be cool, be cool.  Hey, hey. How '\n",
      "                                   'was the first day?  Oh... Yeah, you do.  '\n",
      "                                   'So, tell me. Was it like you and Chandler, '\n",
      "                                   'and then you and me, or you and me and '\n",
      "                                   'Chandler?  What?  Listen, the next time '\n",
      "                                   'you talk to him, can you ask him which one '\n",
      "                                   'the strongest Power Ranger is?  '\n",
      "                                   \"Stegosaurus!  What about Andr�?  They're \"\n",
      "                                   'here already?  Uh, moist, yeah.  For the '\n",
      "                                   \"ride.  All right, I'm going. I'm going.  \"\n",
      "                                   'No way! Mr.Salty is a sailor, all right, '\n",
      "                                   \"he's got to be, like, thetoughest snack \"\n",
      "                                   'there is.  Her answer machine?  Duh, '\n",
      "                                   \"where've you been?  Man, we gotta do \"\n",
      "                                   'something about that guy. This morning, I '\n",
      "                                   'caught him looking into our apartment. It '\n",
      "                                   \"creeps me out! I feel like I can't do \"\n",
      "                                   'stuff!',\n",
      "                           'type': 'character'},\n",
      "              'score': 0.76971924,\n",
      "              'sparse_values': {'indices': [], 'values': []},\n",
      "              'values': []},\n",
      "             {'id': '6691e142-5f3a-4936-a1f6-298d4c0fd468',\n",
      "              'metadata': {'character': 'Chandler',\n",
      "                           'chunk': 0.0,\n",
      "                           'id': 2.0,\n",
      "                           'source': 'friends',\n",
      "                           'text': \"Well, if you're gonna work for mechanics, \"\n",
      "                                   'those are the ones to work for.  You know, '\n",
      "                                   \"I can't believe you. Linda is so great! \"\n",
      "                                   \"Why won't you go out with her again?  Is \"\n",
      "                                   \"this still about her whole 'The \"\n",
      "                                   \"Flintstones could've really happened' \"\n",
      "                                   'thing?  ...little playthings with yarn?  '\n",
      "                                   \"Could you want her more?  We're not—we're \"\n",
      "                                   'not saying anything.  And then he did.  '\n",
      "                                   \"There just don't happen to be any women in \"\n",
      "                                   'our games.  OK Phoebs, how many do you '\n",
      "                                   'want?  Rach, Rach, we gotta settle.  '\n",
      "                                   'The... Jamestown colony of Virginia. You '\n",
      "                                   'see, King George is giving us the land, '\n",
      "                                   'so...  Yes, and I get my ya-yas from Ikea. '\n",
      "                                   'You have to put them together yourself, '\n",
      "                                   'but they cost a little less.  Oh, did you '\n",
      "                                   \"get that from the 'I Love Rachel' \"\n",
      "                                   'pizzeria?  Um, ok... the... the fifth '\n",
      "                                   \"dentist caved and now they're all \"\n",
      "                                   'recommending Trident?  Oh yes, yes, we '\n",
      "                                   'could play',\n",
      "                           'type': 'character'},\n",
      "              'score': 0.76310515,\n",
      "              'sparse_values': {'indices': [], 'values': []},\n",
      "              'values': []},\n",
      "             {'id': '981fe025-1699-4c05-a3d4-c36473e7dcb2',\n",
      "              'metadata': {'character': 'Phoebe',\n",
      "                           'chunk': 25.0,\n",
      "                           'id': 5.0,\n",
      "                           'source': 'friends',\n",
      "                           'text': 'Okay, okay. If I were omnipotent for a '\n",
      "                                   'day, I would want, um, world peace, no '\n",
      "                                   'more hunger, good things for the '\n",
      "                                   'rain-forest...And bigger boobs!  I got no '\n",
      "                                   'sleep last night!  My grandmother has this '\n",
      "                                   \"new boyfriend, and they're both kind of \"\n",
      "                                   \"insecure in bed. Oh, and deaf. So they're \"\n",
      "                                   'constantly, like, having to reassure each '\n",
      "                                   \"other that they're having a good time. You \"\n",
      "                                   'have no idea how loud they are!  Thanks.  '\n",
      "                                   'I remember the day I got my first pay '\n",
      "                                   'check. There was a cave in in one of the '\n",
      "                                   'mines, and eight people were killed.  I '\n",
      "                                   'worked in a Dairy Queen, why?  Ooh! Ooh! '\n",
      "                                   'And I brought Operation! But, um, I lost '\n",
      "                                   \"the tweezers, so we can't operate. But we \"\n",
      "                                   'can prep the guy!  You are just like '\n",
      "                                   'Jack.  No, Jack and the Beanstalk.  Yeah, '\n",
      "                                   'right! See, he gave up something, but then '\n",
      "                                   'he got those magic beans. And then he woke '\n",
      "                                   'up, and there was',\n",
      "                           'type': 'character'},\n",
      "              'score': 0.7485755,\n",
      "              'sparse_values': {'indices': [], 'values': []},\n",
      "              'values': []}],\n",
      " 'namespace': 'friends'}\n"
     ]
    }
   ],
   "source": [
    "print(query_results)"
   ],
   "metadata": {
    "collapsed": false,
    "pycharm": {
     "name": "#%%\n"
    }
   }
  },
  {
   "cell_type": "code",
   "execution_count": null,
   "outputs": [],
   "source": [],
   "metadata": {
    "collapsed": false,
    "pycharm": {
     "name": "#%%\n"
    }
   }
  }
 ],
 "metadata": {
  "kernelspec": {
   "display_name": "Python 3",
   "language": "python",
   "name": "python3"
  },
  "language_info": {
   "codemirror_mode": {
    "name": "ipython",
    "version": 2
   },
   "file_extension": ".py",
   "mimetype": "text/x-python",
   "name": "python",
   "nbconvert_exporter": "python",
   "pygments_lexer": "ipython2",
   "version": "2.7.6"
  }
 },
 "nbformat": 4,
 "nbformat_minor": 0
}