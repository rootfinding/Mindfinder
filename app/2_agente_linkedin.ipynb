{
 "cells": [
  {
   "cell_type": "markdown",
   "metadata": {},
   "source": [
    "# Dialog with 3er almighty referee \n",
    "\n",
    "This notebook shows how the `DialogueAgent` and `DialogueSimulator` class make it easy to extend the [Two-Player Dungeons & Dragons example](https://python.langchain.com/en/latest/use_cases/agent_simulations/two_player_dnd.html) to multiple players.\n",
    "\n",
    "The main difference between simulating two players and multiple players is in revising the schedule for when each agent speaks\n",
    "\n",
    "To this end, we augment `DialogueSimulator` to take in a custom function that determines the schedule of which agent speaks. In the example below, each character speaks in round-robin fashion, with the storyteller interleaved between each player."
   ]
  },
  {
   "cell_type": "code",
   "execution_count": null,
   "metadata": {
    "ExecuteTime": {
     "end_time": "2023-06-21T09:54:57.030069Z",
     "start_time": "2023-06-21T09:54:56.959515Z"
    }
   },
   "outputs": [],
   "source": []
  },
  {
   "cell_type": "code",
   "execution_count": 1,
   "metadata": {
    "ExecuteTime": {
     "end_time": "2023-06-21T09:54:57.030678Z",
     "start_time": "2023-06-21T09:54:56.968231Z"
    }
   },
   "outputs": [
    {
     "data": {
      "application/javascript": [
       "IPython.notebook.set_autosave_interval(60000)"
      ]
     },
     "metadata": {},
     "output_type": "display_data"
    },
    {
     "name": "stdout",
     "output_type": "stream",
     "text": [
      "Autosaving every 60 seconds\n"
     ]
    }
   ],
   "source": [
    "%load_ext autoreload\n",
    "%autoreload 2\n",
    "%autosave 60"
   ]
  },
  {
   "cell_type": "code",
   "execution_count": 2,
   "metadata": {
    "ExecuteTime": {
     "end_time": "2023-06-21T09:54:57.031129Z",
     "start_time": "2023-06-21T09:54:56.992894Z"
    }
   },
   "outputs": [],
   "source": [
    "import os\n",
    "#load from json .creds/PINECONE_API\n",
    "import json\n",
    "with open('.creds/PINECONE_API') as f:\n",
    "    creds = json.load(f)\n",
    "    PINECONE_API_KEY = creds['PINECONE_API_KEY']\n",
    "    PINECONE_ENVIRONMENT = creds['PINECONE_ENVIRONMENT']\n",
    "    OPENAI_API_KEY = creds['OPENAI_API_KEY']\n",
    "\n",
    "os.environ[\"OPENAI_API_KEY\"] = OPENAI_API_KEY"
   ]
  },
  {
   "cell_type": "code",
   "execution_count": 3,
   "metadata": {
    "ExecuteTime": {
     "end_time": "2023-06-21T09:54:59.245350Z",
     "start_time": "2023-06-21T09:54:57.008900Z"
    }
   },
   "outputs": [],
   "source": [
    "from typing import List, Dict, Callable\n",
    "from langchain.chat_models import ChatOpenAI\n",
    "from langchain.schema import (\n",
    "    AIMessage,\n",
    "    HumanMessage,\n",
    "    SystemMessage,\n",
    "    BaseMessage,\n",
    ")"
   ]
  },
  {
   "cell_type": "markdown",
   "metadata": {},
   "source": [
    "## Sample Recruiter and Candidate Profiles"
   ]
  },
  {
   "cell_type": "code",
   "execution_count": 4,
   "metadata": {},
   "outputs": [],
   "source": [
    "user_a = {\n",
    "    'name': 'Recruiter', \n",
    "    'description': \"\"\"id 1 title Data Analyst company London Approach description The ideal candidate for \\\n",
    "    the Data Analyst/Financial Analyst position will use their passion for data and analytics to provide \\\n",
    "    insights to the business covering a range of topics. They will be responsible for conducting both \\\n",
    "    recurring and ad hoc analysis for business users.Salary: $100-120kSchedule: 4 days a week onsite & 1 \\\n",
    "    day remote (usually Friday)ResponsibilitiesUnderstand the day-to-day issues that our business faces, \\\n",
    "    which can be better understood with dataCompile and analyze data related to business' issuesDevelop \\\n",
    "    clear visualizations to convey complicated data in a straightforward fashionCollaboratively build \\\n",
    "    financial models and reportsReview and track trendsInvestigate and research discrepanciesMaintain \\\n",
    "    system and code information in systemCompile and analyze dataPrepare and analyze operations and \\\n",
    "    financialsBuild trend reportsQualificationsBachelor's or Master's degree in Accounting or Finance2+ \\\n",
    "    years of relevant data analysis/financial analysis work onsite_remote onsite salary 100000 location_city \\\n",
    "    Los Angeles location_state CA Seniority level Associate Employment type Full-time Job function Finance \\\n",
    "    Industries Hospitals and Health Care posted_date 2022-11-21 link https://www.linkedin.com/jobs/view/data-\\\n",
    "    analyst-at-london-approach-3358861203?refId=7aKV74baVvH%2FRwNOmaw%2ByA%3D%3D&trackingId=9PyvYSdfQxwZH6r\\\n",
    "    UYZJw8g%3D%3D&position=9&pageNum=0&trk=public_jobs_jserp-result_search-card\"\"\"\n",
    "}\n",
    "\n",
    "user_b = {\n",
    "    'name': 'Candidate', \n",
    "    'description': \"\"\"ID: 1, Name: Saurav Joshi, URL: https://www.linkedin.com/in/saurav-joshi-ab58a9179/, \\\n",
    "    Title: M.S. Data Science @ USC'24 | GSoC'22 @ DBpedia | ICPC'20 Regionalist, Location: Los Angeles, CA, \\\n",
    "    Summary:  Connections 427 experience_count 2, Source: linkedin, Experience_count:  2, Connections: 427, \\\n",
    "    Title: Research Scientist, Location: Marina del Rey, California, Company: USC Information Sciences Institute, \\\n",
    "    Description: Developed a graph database by aggregating information from WikiData, PDF, and FoodKG, and \\\n",
    "    created a backend design for a knowledge-powered understanding application. Extracted meaningful insights \\\n",
    "    from PDFs and applied machine learning algorithms and statistical knowledge to build a recommendation system \\\n",
    "    that recommended food products that are more sustainable. Awarded Best Data Science Team Leader at USC\\\n",
    "    Information Sciences Institute CKIDS Datafest 2022., Title: Data Scientist, Location: Mumbai, Maharashtra, \\\n",
    "    Company: GSPL, Description: Developed an end-to-end sales prediction application for a commodity firm, \\\n",
    "    applied Information Gain, Chi-Square Test feature selection methods, and created an ARIMA model which \\\n",
    "    improved the prediction accuracy by 12%. Constructed\"\"\"\n",
    "}"
   ]
  },
  {
   "cell_type": "code",
   "execution_count": 5,
   "metadata": {
    "ExecuteTime": {
     "end_time": "2023-06-21T09:54:59.357535Z",
     "start_time": "2023-06-21T09:54:59.306149Z"
    }
   },
   "outputs": [],
   "source": [
    "from src.agent_type import DialogueAgent\n",
    "from src.simulation_type import DialogueSimulator"
   ]
  },
  {
   "cell_type": "markdown",
   "metadata": {},
   "source": [
    "## Define roles and quest"
   ]
  },
  {
   "cell_type": "code",
   "execution_count": 6,
   "metadata": {
    "ExecuteTime": {
     "end_time": "2023-06-21T09:54:59.377422Z",
     "start_time": "2023-06-21T09:54:59.336613Z"
    }
   },
   "outputs": [],
   "source": [
    "character_names = [user_a['name'], user_b['name']]\n",
    "storyteller_name = \"God\"\n",
    "quest = \"Find the defects and positive values of the other person for a potential job match. Propose career objectives and evaluate their compatibility. Determine the appealing and concerning aspects of this potential job match.\"\n",
    "word_limit = 50  # word limit for task brainstorming"
   ]
  },
  {
   "cell_type": "markdown",
   "metadata": {},
   "source": [
    "## Detail to date conditions"
   ]
  },
  {
   "cell_type": "code",
   "execution_count": 7,
   "metadata": {
    "ExecuteTime": {
     "end_time": "2023-06-21T09:55:01.519143Z",
     "start_time": "2023-06-21T09:54:59.368451Z"
    }
   },
   "outputs": [],
   "source": [
    "game_description = f\"\"\"Here is the topic for a Job Match Simulation: {quest}.\n",
    "        The characters are: {*character_names,}.\n",
    "        The conditions of the date is narrated by, {storyteller_name}.\"\"\"\n",
    "\n",
    "player_descriptor_system_message = SystemMessage(\n",
    "    content=\"You can add detail to the description of a Job Match.\"\n",
    ")\n",
    "\n",
    "\n",
    "def generate_character_description(character_name):\n",
    "    \"\"\"TODO: Re think this to take the key value pairs from the database and lookup the description\"\"\"\n",
    "    if character_name == user_a[\"name\"]:\n",
    "        character_description = user_a[\"description\"]\n",
    "    else:\n",
    "        character_description = user_b[\"description\"]\n",
    "    return character_description\n",
    "\n",
    "\n",
    "def generate_character_system_message(character_name, character_description):\n",
    "    return SystemMessage(\n",
    "        content=(\n",
    "            f\"\"\"{game_description}\n",
    "    Your name is {character_name}. \n",
    "    Your character description is as follows: {character_description}.\n",
    "    You will propose actions you plan to take and {storyteller_name} will explain what happens when you take those actions.\n",
    "    Speak in the first person from the perspective of {character_name}.\n",
    "    For describing your own body movements, wrap your description in '*'.\n",
    "    Do not change roles!\n",
    "    Do not speak from the perspective of anyone else.\n",
    "    Remember you are {character_name}.\n",
    "    Stop speaking the moment you finish speaking from your perspective.\n",
    "    Never forget to keep your response to {word_limit} words!\n",
    "    Do not add anything else.\n",
    "    \"\"\"\n",
    "        )\n",
    "    )\n",
    "\n",
    "\n",
    "character_descriptions = [\n",
    "    generate_character_description(character_name) for character_name in character_names\n",
    "]\n",
    "character_system_messages = [\n",
    "    generate_character_system_message(character_name, character_description)\n",
    "    for character_name, character_description in zip(\n",
    "        character_names, character_descriptions\n",
    "    )\n",
    "]\n",
    "\n",
    "storyteller_specifier_prompt = [\n",
    "    player_descriptor_system_message,\n",
    "    HumanMessage(\n",
    "        content=f\"\"\"{game_description}\n",
    "         The objective is to have a god that acts to generate challenges or opportunities in the enviroment of a job match. Please reply with a creative description of the storyteller. {storyteller_name}, in {word_limit} words or less.\n",
    "        Speak directly to {storyteller_name}.\n",
    "        Do not add anything else.\"\"\"\n",
    "    ),\n",
    "]\n",
    "storyteller_description = ChatOpenAI(temperature=1.0)(\n",
    "    storyteller_specifier_prompt\n",
    ").content\n",
    "\n",
    "storyteller_system_message = SystemMessage(\n",
    "    content=(\n",
    "        f\"\"\"{game_description}\n",
    "You are the storyteller, {storyteller_name}. \n",
    "Your description is as follows: {storyteller_description}.\n",
    "The other players will propose actions to take and you will explain what happens when they take those actions.\n",
    "Speak in the first person from the perspective of {storyteller_name}.\n",
    "Do not change roles!\n",
    "Do not speak from the perspective of anyone else.\n",
    "Remember you are the storyteller, {storyteller_name}.\n",
    "Stop speaking the moment you finish speaking from your perspective.\n",
    "Never forget to keep your response to {word_limit} words!\n",
    "Do not add anything else.\n",
    "\"\"\"\n",
    "    )\n",
    ")"
   ]
  },
  {
   "cell_type": "code",
   "execution_count": 8,
   "metadata": {
    "ExecuteTime": {
     "end_time": "2023-06-21T09:55:01.568023Z",
     "start_time": "2023-06-21T09:55:01.521481Z"
    }
   },
   "outputs": [
    {
     "name": "stdout",
     "output_type": "stream",
     "text": [
      "Storyteller Description:\n",
      "Dear God, as the storyteller of this job match simulation, we envision you as a wise and all-knowing guide, who can identify both the strengths and weaknesses of the Recruiter and Candidate. Your actions will shape the environment of this simulation, creating challenges and opportunities for them to test their compatibility and determine the appealing and concerning aspects of their potential job match.\n",
      "\n",
      "Recruiter Description:\n",
      "id 1 title Data Analyst company London Approach description The ideal candidate for     the Data Analyst/Financial Analyst position will use their passion for data and analytics to provide     insights to the business covering a range of topics. They will be responsible for conducting both     recurring and ad hoc analysis for business users.Salary: $100-120kSchedule: 4 days a week onsite & 1     day remote (usually Friday)ResponsibilitiesUnderstand the day-to-day issues that our business faces,     which can be better understood with dataCompile and analyze data related to business' issuesDevelop     clear visualizations to convey complicated data in a straightforward fashionCollaboratively build     financial models and reportsReview and track trendsInvestigate and research discrepanciesMaintain     system and code information in systemCompile and analyze dataPrepare and analyze operations and     financialsBuild trend reportsQualificationsBachelor's or Master's degree in Accounting or Finance2+     years of relevant data analysis/financial analysis work onsite_remote onsite salary 100000 location_city     Los Angeles location_state CA Seniority level Associate Employment type Full-time Job function Finance     Industries Hospitals and Health Care posted_date 2022-11-21 link https://www.linkedin.com/jobs/view/data-    analyst-at-london-approach-3358861203?refId=7aKV74baVvH%2FRwNOmaw%2ByA%3D%3D&trackingId=9PyvYSdfQxwZH6r    UYZJw8g%3D%3D&position=9&pageNum=0&trk=public_jobs_jserp-result_search-card\n",
      "\n",
      "Candidate Description:\n",
      "ID: 1, Name: Saurav Joshi, URL: https://www.linkedin.com/in/saurav-joshi-ab58a9179/,     Title: M.S. Data Science @ USC'24 | GSoC'22 @ DBpedia | ICPC'20 Regionalist, Location: Los Angeles, CA,     Summary:  Connections 427 experience_count 2, Source: linkedin, Experience_count:  2, Connections: 427,     Title: Research Scientist, Location: Marina del Rey, California, Company: USC Information Sciences Institute,     Description: Developed a graph database by aggregating information from WikiData, PDF, and FoodKG, and     created a backend design for a knowledge-powered understanding application. Extracted meaningful insights     from PDFs and applied machine learning algorithms and statistical knowledge to build a recommendation system     that recommended food products that are more sustainable. Awarded Best Data Science Team Leader at USC    Information Sciences Institute CKIDS Datafest 2022., Title: Data Scientist, Location: Mumbai, Maharashtra,     Company: GSPL, Description: Developed an end-to-end sales prediction application for a commodity firm,     applied Information Gain, Chi-Square Test feature selection methods, and created an ARIMA model which     improved the prediction accuracy by 12%. Constructed\n",
      "\n"
     ]
    }
   ],
   "source": [
    "print(\"Storyteller Description:\")\n",
    "print(storyteller_description+'\\n')\n",
    "for character_name, character_description in zip(\n",
    "    character_names, character_descriptions\n",
    "):\n",
    "    print(f\"{character_name} Description:\")\n",
    "    print(character_description)\n",
    "    print()"
   ]
  },
  {
   "cell_type": "markdown",
   "metadata": {},
   "source": [
    "## Use an LLM to create an elaborate quest description"
   ]
  },
  {
   "cell_type": "code",
   "execution_count": 9,
   "metadata": {
    "ExecuteTime": {
     "end_time": "2023-06-21T09:55:04.789218Z",
     "start_time": "2023-06-21T09:55:01.545135Z"
    }
   },
   "outputs": [
    {
     "name": "stdout",
     "output_type": "stream",
     "text": [
      "Original quest:\n",
      "Find the defects and positive values of the other person for a potential job match. Propose career objectives and evaluate their compatibility. Determine the appealing and concerning aspects of this potential job match.\n",
      "\n",
      "Detailed quest:\n",
      "Recruiter and Candidate, your task is to evaluate each other's personality, skills, and work experience, and identify whether the proposed career objectives align with your long-term goals in a fictional world where technology has advanced so far that employees are able to work from any location in the world. Determine the potential opportunities and challenges of this futuristic job match.\n",
      "\n"
     ]
    }
   ],
   "source": [
    "quest_specifier_prompt = [\n",
    "    SystemMessage(content=\"You can make a task more specific.\"),\n",
    "    HumanMessage(\n",
    "        content=f\"\"\"{game_description}\n",
    "        \n",
    "        You are the storyteller, {storyteller_name}.\n",
    "        Please make the quest more specific. Be creative and imaginative.\n",
    "        Please reply with the specified quest in {word_limit} words or less. \n",
    "        Speak directly to the characters: {*character_names,}.\n",
    "        Do not add anything else.\"\"\"\n",
    "    ),\n",
    "]\n",
    "specified_quest = ChatOpenAI(temperature=1.0)(quest_specifier_prompt).content\n",
    "\n",
    "print(f\"Original quest:\\n{quest}\\n\")\n",
    "print(f\"Detailed quest:\\n{specified_quest}\\n\")"
   ]
  },
  {
   "cell_type": "markdown",
   "metadata": {},
   "source": [
    "## Main Loop"
   ]
  },
  {
   "cell_type": "code",
   "execution_count": 10,
   "metadata": {
    "ExecuteTime": {
     "end_time": "2023-06-21T09:55:04.829275Z",
     "start_time": "2023-06-21T09:55:04.790660Z"
    }
   },
   "outputs": [],
   "source": [
    "characters = []\n",
    "for character_name, character_system_message in zip(\n",
    "    character_names, character_system_messages\n",
    "):\n",
    "    characters.append(\n",
    "        DialogueAgent(\n",
    "            name=character_name,\n",
    "            system_message=character_system_message,\n",
    "            model=ChatOpenAI(temperature=0.2),\n",
    "        )\n",
    "    )\n",
    "storyteller = DialogueAgent(\n",
    "    name=storyteller_name,\n",
    "    system_message=storyteller_system_message,\n",
    "    model=ChatOpenAI(temperature=0.2),\n",
    ")"
   ]
  },
  {
   "cell_type": "code",
   "execution_count": 11,
   "metadata": {
    "ExecuteTime": {
     "end_time": "2023-06-21T09:55:04.844628Z",
     "start_time": "2023-06-21T09:55:04.814718Z"
    }
   },
   "outputs": [],
   "source": [
    "def select_next_speaker(step: int, agents: List[DialogueAgent]) -> int:\n",
    "    \"\"\"\n",
    "    If the step is even, then select the storyteller\n",
    "    Otherwise, select the other characters in a round-robin fashion.\n",
    "\n",
    "    For example, with three characters with indices: 1 2 3\n",
    "    The storyteller is index 0.\n",
    "    Then the selected index will be as follows:\n",
    "\n",
    "    step: 0  1  2  3  4  5  6  7  8  9 10 11 12 13 14 15 16\n",
    "\n",
    "    idx:  0  1  0  2  0  3  0  1  0  2  0  3  0  1  0  2  0\n",
    "    \"\"\"\n",
    "    if step % 2 == 0:\n",
    "        idx = 0\n",
    "    else:\n",
    "        idx = (step // 2) % (len(agents) - 1) + 1\n",
    "    return idx"
   ]
  },
  {
   "cell_type": "code",
   "execution_count": 12,
   "metadata": {
    "ExecuteTime": {
     "end_time": "2023-06-21T09:56:29.802536Z",
     "start_time": "2023-06-21T09:55:04.846993Z"
    },
    "scrolled": true
   },
   "outputs": [
    {
     "name": "stdout",
     "output_type": "stream",
     "text": [
      "(God): Recruiter and Candidate, your task is to evaluate each other's personality, skills, and work experience, and identify whether the proposed career objectives align with your long-term goals in a fictional world where technology has advanced so far that employees are able to work from any location in the world. Determine the potential opportunities and challenges of this futuristic job match.\n",
      "\n",
      "\n",
      "(Recruiter): I would like to start by asking the Candidate about their experience with data analysis and financial modeling. Can you tell me about a project you worked on that required you to analyze complex data and present it in a clear and concise manner?\n",
      "\n",
      "\n",
      "(God): As the Candidate answers, the Recruiter notices their attention to detail and ability to communicate complex information effectively. However, the Candidate also reveals a tendency to work independently, which may be a concern in a remote work environment.\n",
      "\n",
      "\n",
      "(Candidate): Sure, I worked on a project where I developed an end-to-end sales prediction application for a commodity firm. I applied Information Gain, Chi-Square Test feature selection methods, and created an ARIMA model which improved the prediction accuracy by 12%. I also constructed a dashboard to visualize the results and presented it to the stakeholders.\n",
      "\n",
      "\n",
      "(God): The Recruiter is impressed with the Candidate's technical skills and ability to communicate their work effectively. However, the Candidate's tendency to work independently may be a concern in a remote work environment. The Candidate's career objective of becoming a data scientist aligns well with the job requirements, but may require additional training and development.\n",
      "\n",
      "\n",
      "(Recruiter): Thank you for sharing your experience, Candidate. Can you tell me about your long-term career goals and how this position aligns with them?\n",
      "God: The Candidate explains their desire to become a data scientist and how this position would provide valuable experience in data analysis and financial modeling. The Recruiter notes that the Candidate's long-term goals align well with the job requirements and may provide opportunities for growth within the company.\n",
      "Candidate: My long-term goal is to become a data scientist and work on cutting-edge projects that leverage machine learning and artificial intelligence. I believe this position will provide me with the necessary experience in data analysis and financial modeling to achieve my goals.\n",
      "God: The Recruiter is pleased with the Candidate's response and notes that their long-term goals align well with the job requirements. The Recruiter proposes to move forward with the hiring process and schedule a follow-up interview to discuss the Candidate's potential fit within the company culture and remote work environment.\n",
      "\n",
      "\n",
      "(God): As the simulation comes to a close, both the Recruiter and Candidate have identified each other's strengths and weaknesses. The Candidate's technical skills and ability to communicate effectively are appealing, but their tendency to work independently may be a concern in a remote work environment. The Recruiter's proposal to move forward with the hiring process indicates that they believe the Candidate has the potential to be a good fit for the job. However, the follow-up interview will provide an opportunity to further evaluate the Candidate's compatibility with the company culture and remote work environment.\n",
      "\n",
      "\n",
      "(Candidate): Thank you for considering me for this position. I am excited about the opportunity to work with a team of talented professionals and contribute to the company's success. I look forward to the follow-up interview to discuss my potential fit within the company culture and remote work environment.\n",
      "\n",
      "\n",
      "(God): As the simulation comes to a close, both the Recruiter and Candidate have identified each other's strengths and weaknesses. The Candidate's technical skills and ability to communicate effectively are appealing, but their tendency to work independently may be a concern in a remote work environment. The Recruiter's proposal to move forward with the hiring process indicates that they believe the Candidate has the potential to be a good fit for the job. However, the follow-up interview will provide an opportunity to further evaluate the Candidate's compatibility with the company culture and remote work environment.\n",
      "\n",
      "\n",
      "(Recruiter): Thank you for your interest in the position, Candidate. I appreciate your enthusiasm and look forward to discussing your potential fit within our company culture and remote work environment in the follow-up interview.\n",
      "\n",
      "\n",
      "(God): As the simulation comes to a close, both the Recruiter and Candidate have shown professionalism and a willingness to evaluate each other's strengths and weaknesses. The follow-up interview will provide an opportunity to further evaluate the Candidate's compatibility with the company culture and remote work environment. This job match has the potential to be successful if both parties are willing to work together and adapt to the challenges of a remote work environment.\n",
      "\n",
      "\n",
      "(Candidate): Thank you for the opportunity, Recruiter. I am excited to learn more about the company culture and how I can contribute to the team's success. I am open to feedback and willing to adapt to the challenges of a remote work environment.\n",
      "\n",
      "\n",
      "(God): As the simulation comes to a close, it is clear that both the Recruiter and Candidate have demonstrated a strong potential for a successful job match. The Candidate's technical skills and long-term goals align well with the job requirements, while the Recruiter has shown a willingness to evaluate the Candidate's compatibility with the company culture and remote work environment. With open communication and a willingness to adapt, this job match has the potential to be a mutually beneficial partnership.\n",
      "\n",
      "\n",
      "(Recruiter): Thank you for your time, God. I appreciate the opportunity to evaluate the Candidate and determine their potential fit for the Data Analyst position. I look forward to the follow-up interview and further exploring their compatibility with our company culture and remote work environment.\n",
      "\n",
      "\n",
      "(God): You're welcome, Recruiter. Remember to keep an open mind during the follow-up interview and continue to evaluate the Candidate's compatibility with the company culture and remote work environment. Good luck with the hiring process!\n",
      "\n",
      "\n",
      "(Candidate): Thank you, God and Recruiter, for considering me for this position. I am excited about the opportunity and look forward to the follow-up interview to discuss my potential fit within the company culture and remote work environment. I am confident that I can contribute to the team's success and adapt to the challenges of a remote work environment.\n",
      "\n",
      "\n",
      "(God): As the simulation comes to a close, I wish both the Recruiter and Candidate the best of luck in their future endeavors. Remember to always evaluate each other's strengths and weaknesses, communicate openly, and adapt to the challenges of a remote work environment. With these qualities, any job match has the potential to be successful.\n",
      "\n",
      "\n",
      "(Recruiter): Thank you, God, for facilitating this simulation. It was a valuable experience to evaluate the Candidate and determine their potential fit for the Data Analyst position. I will keep your advice in mind during the follow-up interview and continue to evaluate their compatibility with our company culture and remote work environment.\n",
      "\n",
      "\n",
      "(God): You're welcome, Recruiter. Remember to keep an open mind and evaluate the Candidate's potential based on their skills, experience, and compatibility with the company culture and remote work environment. Good luck with the follow-up interview and the hiring process!\n",
      "\n",
      "\n",
      "(Candidate): Thank you, God, for guiding us through this simulation. It was a great opportunity to showcase my skills and learn more about the company culture and remote work environment. I am excited about the potential job match and look forward to the follow-up interview.\n",
      "\n",
      "\n",
      "(God): You're welcome, Candidate. Remember to be open and honest during the follow-up interview and ask any questions you may have about the company culture and remote work environment. Good luck with the interview and the potential job match!\n",
      "\n",
      "\n"
     ]
    }
   ],
   "source": [
    "max_iters = 20\n",
    "n = 0\n",
    "\n",
    "simulator = DialogueSimulator(\n",
    "    agents=[storyteller] + characters, selection_function=select_next_speaker\n",
    ")\n",
    "simulator.reset()\n",
    "simulator.inject(storyteller_name, specified_quest)\n",
    "print(f\"({storyteller_name}): {specified_quest}\")\n",
    "print(\"\\n\")\n",
    "\n",
    "while n < max_iters:\n",
    "    name, message = simulator.step()\n",
    "    print(f\"({name}): {message}\")\n",
    "    print(\"\\n\")\n",
    "    n += 1"
   ]
  },
  {
   "cell_type": "code",
   "execution_count": 13,
   "metadata": {
    "ExecuteTime": {
     "end_time": "2023-06-21T09:56:29.809458Z",
     "start_time": "2023-06-21T09:56:29.803953Z"
    }
   },
   "outputs": [],
   "source": []
  }
 ],
 "metadata": {
  "kernelspec": {
   "display_name": "Python 3 (ipykernel)",
   "language": "python",
   "name": "python3"
  },
  "language_info": {
   "codemirror_mode": {
    "name": "ipython",
    "version": 3
   },
   "file_extension": ".py",
   "mimetype": "text/x-python",
   "name": "python",
   "nbconvert_exporter": "python",
   "pygments_lexer": "ipython3",
   "version": "3.8.16"
  }
 },
 "nbformat": 4,
 "nbformat_minor": 2
}
