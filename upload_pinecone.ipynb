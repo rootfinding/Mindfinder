{
 "cells": [
  {
   "cell_type": "code",
   "execution_count": 1,
   "metadata": {
    "collapsed": true,
    "ExecuteTime": {
     "start_time": "2023-06-22T18:41:59.767778Z",
     "end_time": "2023-06-22T18:42:01.761046Z"
    }
   },
   "outputs": [],
   "source": []
  },
  {
   "cell_type": "code",
   "execution_count": 28,
   "outputs": [],
   "source": [
    "import os\n",
    "import pandas as pd\n",
    "#load from json .creds/PINECONE_API\n",
    "import json\n",
    "with open('.creds/PINECONE_API') as f:\n",
    "    creds = json.load(f)\n",
    "    PINECONE_API_KEY = creds['PINECONE_API_KEY']\n",
    "    PINECONE_ENVIRONMENT = creds['PINECONE_ENVIRONMENT']\n",
    "    OPENAI_API_KEY = creds['OPENAI_API_KEY']\n",
    "\n",
    "os.environ[\"OPENAI_API_KEY\"] = OPENAI_API_KEY"
   ],
   "metadata": {
    "collapsed": false,
    "ExecuteTime": {
     "start_time": "2023-06-22T19:22:31.336313Z",
     "end_time": "2023-06-22T19:22:31.341189Z"
    }
   }
  },
  {
   "cell_type": "code",
   "execution_count": 5,
   "outputs": [],
   "source": [
    "path_jobs = \"data/linkedin/job_posting.json\"\n",
    "path_profiles = \"data/linkedin/profiles.json\"\n",
    "\n",
    "import json\n",
    "\n",
    "# Read profiles.json\n",
    "with open(path_profiles, 'r') as f:\n",
    "    profiles = json.load(f)\n",
    "\n",
    "# Read job_posting.json\n",
    "with open(path_jobs, 'r') as f:\n",
    "    job_postings = json.load(f)\n"
   ],
   "metadata": {
    "collapsed": false,
    "ExecuteTime": {
     "start_time": "2023-06-22T18:49:01.792891Z",
     "end_time": "2023-06-22T18:49:01.829536Z"
    }
   }
  },
  {
   "cell_type": "code",
   "execution_count": 10,
   "outputs": [
    {
     "data": {
      "text/plain": "list"
     },
     "execution_count": 10,
     "metadata": {},
     "output_type": "execute_result"
    }
   ],
   "source": [
    "type(job_postings)"
   ],
   "metadata": {
    "collapsed": false,
    "ExecuteTime": {
     "start_time": "2023-06-22T18:57:21.046936Z",
     "end_time": "2023-06-22T18:57:21.069808Z"
    }
   }
  },
  {
   "cell_type": "markdown",
   "source": [
    "# Create upload function\n",
    "\n",
    "* We have list with a dictonary as the template.\n",
    "\n",
    "1. We need to create an embeddigns or summary for each jobposting and candidate\n",
    "2. Append that embedding to the dictionary (to use the list and create a new key \"embedding\")\n"
   ],
   "metadata": {
    "collapsed": false
   }
  },
  {
   "cell_type": "code",
   "execution_count": 12,
   "outputs": [],
   "source": [
    "from langchain.embeddings.openai import OpenAIEmbeddings\n",
    "\n",
    "model_name = 'text-embedding-ada-002'\n",
    "\n",
    "embed = OpenAIEmbeddings(\n",
    "    model=model_name,\n",
    "    openai_api_key=OPENAI_API_KEY\n",
    ")"
   ],
   "metadata": {
    "collapsed": false,
    "ExecuteTime": {
     "start_time": "2023-06-22T19:12:17.665827Z",
     "end_time": "2023-06-22T19:12:20.363015Z"
    }
   }
  },
  {
   "cell_type": "markdown",
   "source": [
    "Create for all data of id a \"text\" chunk and append it to a list. Then modify the keys of the example to test"
   ],
   "metadata": {
    "collapsed": false
   }
  },
  {
   "cell_type": "code",
   "execution_count": 30,
   "outputs": [],
   "source": [
    "index_name = 'linkedin'\n",
    "\n",
    "import pinecone\n",
    "\n",
    "\n",
    "pinecone.init(\n",
    "    api_key=PINECONE_API_KEY,\n",
    "    environment=PINECONE_ENVIRONMENT\n",
    ")\n",
    "\n",
    "if index_name not in pinecone.list_indexes():\n",
    "    # we create a new index\n",
    "    pinecone.create_index(\n",
    "        name=index_name,\n",
    "        metric='cosine',\n",
    "        dimension=1536  # 1536 dim of text-embedding-ada-002\n",
    "    )\n",
    "\n",
    "index = pinecone.GRPCIndex(index_name)"
   ],
   "metadata": {
    "collapsed": false,
    "ExecuteTime": {
     "start_time": "2023-06-22T19:24:42.583997Z",
     "end_time": "2023-06-22T19:27:28.450518Z"
    }
   }
  },
  {
   "cell_type": "code",
   "execution_count": 31,
   "outputs": [],
   "source": [
    "from langchain.text_splitter import RecursiveCharacterTextSplitter\n",
    "import tiktoken\n",
    "\n",
    "tokenizer = tiktoken.get_encoding('cl100k_base')\n",
    "\n",
    "def tiktoken_len(text):\n",
    "    tokens = tokenizer.encode(\n",
    "        text,\n",
    "        disallowed_special=()\n",
    "    )\n",
    "    return len(tokens)\n",
    "\n",
    "text_splitter = RecursiveCharacterTextSplitter(\n",
    "    chunk_size=400,\n",
    "    chunk_overlap=20,\n",
    "    length_function=tiktoken_len,\n",
    "    separators=[\"\\n\\n\", \"\\n\", \" \", \"\"]\n",
    ")"
   ],
   "metadata": {
    "collapsed": false,
    "ExecuteTime": {
     "start_time": "2023-06-22T19:28:26.835014Z",
     "end_time": "2023-06-22T19:28:26.839561Z"
    }
   }
  },
  {
   "cell_type": "code",
   "execution_count": 34,
   "outputs": [
    {
     "data": {
      "text/plain": "[{'id': 1,\n  'name': 'Saurav Joshi',\n  'url': 'https://www.linkedin.com/in/saurav-joshi-ab58a9179/',\n  'title': \"M.S. Data Science @ USC'24 | GSoC'22 @ DBpedia | ICPC'20 Regionalist\",\n  'location': 'Los Angeles, California',\n  'summary': '',\n  'connections': '427',\n  'experience_count': '2',\n  'experience_collection': [{'title': 'Research Scientist',\n    'location': 'Marina del Rey, California',\n    'company': 'USC Information Sciences Institute',\n    'description': 'Developed a graph database by aggregating information from WikiData, PDF, and FoodKG, and created a backend design for a knowledge-powered understanding application. Extracted meaningful insights from PDFs and applied machine learning algorithms and statistical knowledge to build a recommendation system that recommended food products that are more sustainable. Awarded Best Data Science Team Leader at USC Information Sciences Institute CKIDS Datafest 2022.'},\n   {'title': 'Data Scientist',\n    'location': 'Mumbai, Maharashtra',\n    'company': 'GSPL',\n    'description': 'Developed an end-to-end sales prediction application for a commodity firm, applied Information Gain, Chi-Square Test feature selection methods, and created an ARIMA model which improved the prediction accuracy by 12%. Constructed a Conversational AI Assistant for the Legal Industry, introducing new features namely multiple intent recognition, recommendation system that increased customer engagement and saved the company’s cost. Implemented a Few-Shot Learning Approach with Siamese Neural Network to overcome the problem of insufficient training data for the Conversation AI Assistant to improve the text classification accuracy and also designed data science and technology-related articles on Medium to help the community by sharing concepts and code.'}]},\n {'id': 2,\n  'name': 'Shamit Kikani',\n  'url': 'https://www.linkedin.com/in/shamitkikani/',\n  'title': 'Data Analyst | University of Michigan | SpaceX',\n  'location': 'Los Angeles, California',\n  'summary': 'Industrial Engineer specializing in Data Science and Operations Research. I aspire to work towards practical implementation of data science, machine learning and process optimization techniques for end-user and business gain.Industrial Engineer specializing in Data Science and Operations Research. I aspire to work towards practical implementation of data science, machine learning and process optimization techniques for end-user and business gain.',\n  'connections': '500+',\n  'experience_count': '2',\n  'experience_collection': [{'title': 'Senior Data Analyst',\n    'location': 'Los Angeles, California',\n    'company': 'SpaceX',\n    'description': ''},\n   {'title': 'Supply Chain Data Analyst',\n    'location': 'Piscataway, New Jersey',\n    'company': 'Johnson & Johnson',\n    'description': 'Developed a web-scraping algorithm in Python leading to improved tracking of consumer product shipments by 80% on strategic routes • Created a globally automated process to evaluate bids from freight carriers, and minimized transportation costs by $18mn through network optimization • Generated inventory forecasts for medical devices across 3,000 warehouses by performing time-series analysis on demand and supply data • Implemented Python scripts to extract unstructured data from websites and mailboxes, maintaining data integrity across SQL and SAP databases • Data analysis and visualizations for process flows and standardized KPIs • Social Media Chair for the ‘Intern and Co-op Association’ at J&J'}]},\n {'id': 3,\n  'name': 'Scott Chlebos',\n  'url': 'https://www.linkedin.com/in/scottchlebos/',\n  'title': 'VP of HR & Talent',\n  'location': 'Austin, Texas',\n  'summary': \"My background is thriving in a startup and private equity environments in which little to no Talent Acquisition (TA) or HR processes have been created. In my career, I have had the opportunity to sit in every single HR function to allow me to gain a broad range of breadth and depth experience in TA and all other HR functions, including payroll. With my broad range of experience, I bring value to any company by being able to offset the need to hire additional headcount when most HR leaders have to because they don't have the understanding in a particular HR area.\",\n  'connections': '500+',\n  'experience_count': '2',\n  'experience_collection': [{'title': 'VP of HR & Talent',\n    'location': 'Austin, Texas',\n    'company': \"Willie's Restaurants\",\n    'description': \"Oversee TA & HR for leading Texas based scratch brand casual dining concept. Willie's is equity backed by CIC out of Dallas. I have created a best in class HR function as we are now embarking into unprecedented growth beginning in 2023.\"},\n   {'title': 'VP of HR & Talent',\n    'location': 'Austin, Texas',\n    'company': 'Edgile',\n    'description': 'Oversaw TA & HR for Private Equity Series A leading consulting firm. Position was eliminated due to Covid-19.Oversaw TA & HR for Private Equity Series A leading consulting firm. Position was eliminated due to Covid-19.'}]},\n {'id': 4,\n  'name': 'Michael McCann',\n  'url': 'https://www.linkedin.com/in/michaelhmccann/',\n  'title': 'Georgetown Masters of Science in Finance | Senior Cybersecurity Networks Professional TS/SCI Clearance',\n  'location': 'Columbia, Maryland',\n  'summary': 'I am driven to achieve success at the highest level while supporting those around me. Whether that drive is applied to leading cybersecurity network analysis or engineering systems for the United States Navy, playing professional baseball for the Kansas City Royals, earning a Masters of Science in Finance from Georgetown University, or completing an Ironman race - I have always had passion for taking on a significant challenge.',\n  'connections': '500+',\n  'experience_count': '2',\n  'experience_collection': [{'title': 'Senior Cybersecurity Network Professional',\n    'location': 'Fort George G. Meade, Maryland',\n    'company': 'US Navy',\n    'description': 'Senior analyst in Cyber Protection Team - Performs proactive threat hunts and reactive incident responses (IR) on customer networks in order to identify malicious cyber activities, to harden customer networks, and to provide advanced security recommendations to C-Suite level management.'},\n   {'title': 'Auditor',\n    'location': 'Seattle, Washington',\n    'company': 'EY',\n    'description': 'Skills: Financial Analysis · General Ledgers · Microsoft PowerPoint · Microsoft Office · Microsoft Excel · Financial Reporting · Finance'}]},\n {'id': 5,\n  'name': 'Philman Tjong, EIT',\n  'url': 'https://www.linkedin.com/in/philmanstjong/',\n  'title': 'LADWP Electrical Engineer Associate',\n  'location': 'El Monte, California',\n  'summary': 'My educational emphasis was in power systems/ engineering at the University of California, San Diego. I developed a particular passion for renewable energy resources and sustainability topics in the field of engineering. My philosophy in the benefit of the community/ public goes hand-in-hand with the progression of renewable energy.',\n  'connections': '490',\n  'experience_count': '2',\n  'experience_collection': [{'title': 'Electrical Engineer Associate 1',\n    'location': 'Los Angeles County, California',\n    'company': 'LADWP',\n    'description': 'Currently learning and working with the Control Systems Network Engineering'},\n   {'title': 'Electrical and Computer Engineering Instructional Assistant',\n    'location': 'San Diego, California',\n    'company': 'UCSD',\n    'description': 'Assisted in classes pertaining to Power Grid Modernization and Power Grid Resiliency to Adverse Effects + Assisted the professor in the course material, proctoring exams, grading assignments, and tutoring any students on the course knowledge'}]}]"
     },
     "execution_count": 34,
     "metadata": {},
     "output_type": "execute_result"
    }
   ],
   "source": [
    "profiles"
   ],
   "metadata": {
    "collapsed": false,
    "ExecuteTime": {
     "start_time": "2023-06-22T19:31:13.836745Z",
     "end_time": "2023-06-22T19:31:13.846186Z"
    }
   }
  },
  {
   "cell_type": "code",
   "execution_count": 33,
   "outputs": [
    {
     "data": {
      "text/plain": "{'id': '5',\n 'name': 'Philman Tjong, EIT',\n 'url': 'https://www.linkedin.com/in/philmanstjong/',\n 'source': 'linkedin',\n 'location': 'El Monte, California',\n 'experience_count': '2',\n 'experience_collection': [{'title': 'Electrical Engineer Associate 1',\n   'location': 'Los Angeles County, California',\n   'company': 'LADWP',\n   'description': 'Currently learning and working with the Control Systems Network Engineering'},\n  {'title': 'Electrical and Computer Engineering Instructional Assistant',\n   'location': 'San Diego, California',\n   'company': 'UCSD',\n   'description': 'Assisted in classes pertaining to Power Grid Modernization and Power Grid Resiliency to Adverse Effects + Assisted the professor in the course material, proctoring exams, grading assignments, and tutoring any students on the course knowledge'}],\n 'connections': '490'}"
     },
     "execution_count": 33,
     "metadata": {},
     "output_type": "execute_result"
    }
   ],
   "source": [
    "metadata"
   ],
   "metadata": {
    "collapsed": false,
    "ExecuteTime": {
     "start_time": "2023-06-22T19:30:29.788758Z",
     "end_time": "2023-06-22T19:30:29.799573Z"
    }
   }
  },
  {
   "cell_type": "code",
   "execution_count": 35,
   "outputs": [
    {
     "data": {
      "text/plain": "{'id': 1,\n 'name': 'Saurav Joshi',\n 'url': 'https://www.linkedin.com/in/saurav-joshi-ab58a9179/',\n 'title': \"M.S. Data Science @ USC'24 | GSoC'22 @ DBpedia | ICPC'20 Regionalist\",\n 'location': 'Los Angeles, California',\n 'summary': '',\n 'connections': '427',\n 'experience_count': '2',\n 'experience_collection': [{'title': 'Research Scientist',\n   'location': 'Marina del Rey, California',\n   'company': 'USC Information Sciences Institute',\n   'description': 'Developed a graph database by aggregating information from WikiData, PDF, and FoodKG, and created a backend design for a knowledge-powered understanding application. Extracted meaningful insights from PDFs and applied machine learning algorithms and statistical knowledge to build a recommendation system that recommended food products that are more sustainable. Awarded Best Data Science Team Leader at USC Information Sciences Institute CKIDS Datafest 2022.'},\n  {'title': 'Data Scientist',\n   'location': 'Mumbai, Maharashtra',\n   'company': 'GSPL',\n   'description': 'Developed an end-to-end sales prediction application for a commodity firm, applied Information Gain, Chi-Square Test feature selection methods, and created an ARIMA model which improved the prediction accuracy by 12%. Constructed a Conversational AI Assistant for the Legal Industry, introducing new features namely multiple intent recognition, recommendation system that increased customer engagement and saved the company’s cost. Implemented a Few-Shot Learning Approach with Siamese Neural Network to overcome the problem of insufficient training data for the Conversation AI Assistant to improve the text classification accuracy and also designed data science and technology-related articles on Medium to help the community by sharing concepts and code.'}]}"
     },
     "execution_count": 35,
     "metadata": {},
     "output_type": "execute_result"
    }
   ],
   "source": [
    "profiles[0]"
   ],
   "metadata": {
    "collapsed": false,
    "ExecuteTime": {
     "start_time": "2023-06-22T19:32:08.657387Z",
     "end_time": "2023-06-22T19:32:08.665691Z"
    }
   }
  },
  {
   "cell_type": "code",
   "execution_count": 44,
   "outputs": [
    {
     "name": "stdout",
     "output_type": "stream",
     "text": [
      "********************\n",
      "********************\n",
      "********************\n",
      "********************\n",
      "********************\n",
      "********************\n",
      "********************\n",
      "********************\n",
      "********************\n",
      "********************\n"
     ]
    }
   ],
   "source": [
    "from uuid import uuid4\n",
    "\n",
    "batch_limit = 100\n",
    "\n",
    "texts = []\n",
    "metadatas = []\n",
    "\n",
    "for i, record in enumerate(profiles):\n",
    "    # first get metadata fields for this record\n",
    "    metadata = {\n",
    "        'id': str(record['id']),\n",
    "        'name': str(record['name']),\n",
    "        'url': str(record['url']),\n",
    "        'source':'linkedin',\n",
    "        'location': record['location'],\n",
    "        'experience_count': record['experience_count'],\n",
    "        'connections': record['connections'],\n",
    "    }\n",
    "    #concatenate all keys and corresponding values of a nested profile[i] in a text feature\n",
    "    result = \"\"\n",
    "    for key, value in profiles[i].items():\n",
    "        if key == \"experience_collection\":\n",
    "            for experience in value:\n",
    "                for sub_key, sub_value in experience.items():\n",
    "                    result += sub_key+ \" \" +sub_value + \" \"\n",
    "                result += \"\\n\"\n",
    "        else:\n",
    "            result += key + \" \" + str(value) + \" \"\n",
    "    # now we create chunks from the record text\n",
    "    record_texts = text_splitter.split_text(result)\n",
    "    print(\"*\"*20)\n",
    "\n",
    "    # create individual metadata dicts for each chunk\n",
    "    record_metadatas = [{\n",
    "        \"chunk\": j, \"text\": text, **metadata\n",
    "    } for j, text in enumerate(record_texts)]\n",
    "\n",
    "    # append these to current batches\n",
    "    texts.extend(record_texts)\n",
    "    metadatas.extend(record_metadatas)\n",
    "    print(\"*\"*20)\n",
    "    # if we have reached the batch_limit we can add texts\n",
    "    if len(texts) >= batch_limit:\n",
    "        ids = [str(uuid4()) for _ in range(len(texts))]\n",
    "        embeds = embed.embed_documents(texts)\n",
    "        index.upsert(vectors=zip(ids, embeds, metadatas))\n",
    "        texts = []\n",
    "        metadatas = []\n",
    "\n",
    "if len(texts) > 0:\n",
    "    ids = [str(uuid4()) for _ in range(len(texts))]\n",
    "    embeds = embed.embed_documents(texts)\n",
    "    index.upsert(vectors=zip(ids, embeds, metadatas))"
   ],
   "metadata": {
    "collapsed": false,
    "ExecuteTime": {
     "start_time": "2023-06-22T19:49:19.130351Z",
     "end_time": "2023-06-22T19:49:20.754766Z"
    }
   }
  },
  {
   "cell_type": "code",
   "execution_count": 45,
   "outputs": [
    {
     "name": "stdout",
     "output_type": "stream",
     "text": [
      "Finished\n"
     ]
    }
   ],
   "source": [
    "print(\"Finished\")"
   ],
   "metadata": {
    "collapsed": false,
    "ExecuteTime": {
     "start_time": "2023-06-22T19:49:22.854672Z",
     "end_time": "2023-06-22T19:49:22.867495Z"
    }
   }
  },
  {
   "cell_type": "code",
   "execution_count": 8,
   "outputs": [
    {
     "ename": "AttributeError",
     "evalue": "'list' object has no attribute 'keys'",
     "output_type": "error",
     "traceback": [
      "\u001B[0;31m---------------------------------------------------------------------------\u001B[0m",
      "\u001B[0;31mAttributeError\u001B[0m                            Traceback (most recent call last)",
      "Cell \u001B[0;32mIn [8], line 2\u001B[0m\n\u001B[1;32m      1\u001B[0m \u001B[38;5;66;03m# Create metadata for profiles\u001B[39;00m\n\u001B[0;32m----> 2\u001B[0m profile_metadata \u001B[38;5;241m=\u001B[39m {\u001B[38;5;28mid\u001B[39m: profile \u001B[38;5;28;01mfor\u001B[39;00m \u001B[38;5;28mid\u001B[39m, profile \u001B[38;5;129;01min\u001B[39;00m \u001B[38;5;28mzip\u001B[39m(\u001B[43mjob_postings\u001B[49m\u001B[38;5;241;43m.\u001B[39;49m\u001B[43mkeys\u001B[49m(), profiles)}\n",
      "\u001B[0;31mAttributeError\u001B[0m: 'list' object has no attribute 'keys'"
     ]
    }
   ],
   "source": [
    "# Create metadata for profiles\n",
    "profile_metadata = {id: profile for id, profile in zip(job_postings.keys(), profiles)}"
   ],
   "metadata": {
    "collapsed": false
   }
  },
  {
   "cell_type": "code",
   "execution_count": 3,
   "outputs": [
    {
     "data": {
      "text/plain": "                               title                   company  \\\n0     Data Analyst - Recent Graduate                    PayPal   \n1     Data Analyst - Recent Graduate                    PayPal   \n2                       Data Analyst                    PayPal   \n3                       Data Analyst                    PayPal   \n4           Entry-Level Data Analyst  The Federal Savings Bank   \n...                              ...                       ...   \n2840             Junior Data Analyst        Iris Software Inc.   \n2841              Data Analyst (SQL)             Marwood Group   \n2842                    Data Analyst        SmartSense by Digi   \n2843                    Data Analyst            Synergy Search   \n2844                    Data Analyst            Insight Global   \n\n                                            description onsite_remote  \\\n0     At PayPal (NASDAQ: PYPL), we believe that ever...        onsite   \n1     At PayPal (NASDAQ: PYPL), we believe that ever...        onsite   \n2     At PayPal (NASDAQ: PYPL), we believe that ever...        onsite   \n3     At PayPal (NASDAQ: PYPL), we believe that ever...        onsite   \n4     The Federal Savings Bank, a national bank and ...        onsite   \n...                                                 ...           ...   \n2840  Iris's client, one of the world's largest fina...        hybrid   \n2841  The Marwood Group (Marwood) is a leading healt...        hybrid   \n2842  Join a high-performing, tight-knit team at a f...        hybrid   \n2843  Nashville (Berry Hill) based company looking t...        hybrid   \n2844  Overview - Minimum 5 years in a quantitative d...        hybrid   \n\n                                                 salary  \\\n0                                                   NaN   \n1                                                   NaN   \n2                                                   NaN   \n3                                                   NaN   \n4                                                   NaN   \n...                                                 ...   \n2840                                                NaN   \n2841  $75,000.00\\r\\n            -\\r\\n            $95...   \n2842                                                NaN   \n2843  $85,000.00\\r\\n            -\\r\\n            $95...   \n2844  $130,000.00\\r\\n            -\\r\\n            $1...   \n\n                             location  \\\n0          Buffalo-Niagara Falls Area   \n1                        San Jose, CA   \n2                Texas, United States   \n3             Illinois, United States   \n4                         Chicago, IL   \n...                               ...   \n2840             Texas, United States   \n2841  New York City Metropolitan Area   \n2842                    Mishawaka, IN   \n2843      Nashville Metropolitan Area   \n2844                      Burbank, CA   \n\n                                               criteria posted_date  \\\n0     [{'Seniority level': 'Not Applicable'}, {'Empl...  2022-11-22   \n1     [{'Seniority level': 'Not Applicable'}, {'Empl...  2022-11-22   \n2     [{'Seniority level': 'Not Applicable'}, {'Empl...  2022-11-17   \n3     [{'Seniority level': 'Not Applicable'}, {'Empl...  2022-11-17   \n4     [{'Seniority level': 'Entry level'}, {'Employm...  2022-11-17   \n...                                                 ...         ...   \n2840  [{'Seniority level': 'Mid-Senior level'}, {'Em...  2022-10-21   \n2841  [{'Seniority level': 'Mid-Senior level'}, {'Em...  2022-10-26   \n2842  [{'Seniority level': 'Associate'}, {'Employmen...  2022-11-17   \n2843  [{'Seniority level': 'Not Applicable'}, {'Empl...  2022-11-14   \n2844  [{'Seniority level': 'Mid-Senior level'}, {'Em...  2022-11-14   \n\n                                                   link  \n0     https://www.linkedin.com/jobs/view/data-analys...  \n1     https://www.linkedin.com/jobs/view/data-analys...  \n2     https://www.linkedin.com/jobs/view/data-analys...  \n3     https://www.linkedin.com/jobs/view/data-analys...  \n4     https://www.linkedin.com/jobs/view/entry-level...  \n...                                                 ...  \n2840  https://www.linkedin.com/jobs/view/junior-data...  \n2841  https://www.linkedin.com/jobs/view/data-analys...  \n2842  https://www.linkedin.com/jobs/view/data-analys...  \n2843  https://www.linkedin.com/jobs/view/data-analys...  \n2844  https://www.linkedin.com/jobs/view/data-analys...  \n\n[2845 rows x 9 columns]",
      "text/html": "<div>\n<style scoped>\n    .dataframe tbody tr th:only-of-type {\n        vertical-align: middle;\n    }\n\n    .dataframe tbody tr th {\n        vertical-align: top;\n    }\n\n    .dataframe thead th {\n        text-align: right;\n    }\n</style>\n<table border=\"1\" class=\"dataframe\">\n  <thead>\n    <tr style=\"text-align: right;\">\n      <th></th>\n      <th>title</th>\n      <th>company</th>\n      <th>description</th>\n      <th>onsite_remote</th>\n      <th>salary</th>\n      <th>location</th>\n      <th>criteria</th>\n      <th>posted_date</th>\n      <th>link</th>\n    </tr>\n  </thead>\n  <tbody>\n    <tr>\n      <th>0</th>\n      <td>Data Analyst - Recent Graduate</td>\n      <td>PayPal</td>\n      <td>At PayPal (NASDAQ: PYPL), we believe that ever...</td>\n      <td>onsite</td>\n      <td>NaN</td>\n      <td>Buffalo-Niagara Falls Area</td>\n      <td>[{'Seniority level': 'Not Applicable'}, {'Empl...</td>\n      <td>2022-11-22</td>\n      <td>https://www.linkedin.com/jobs/view/data-analys...</td>\n    </tr>\n    <tr>\n      <th>1</th>\n      <td>Data Analyst - Recent Graduate</td>\n      <td>PayPal</td>\n      <td>At PayPal (NASDAQ: PYPL), we believe that ever...</td>\n      <td>onsite</td>\n      <td>NaN</td>\n      <td>San Jose, CA</td>\n      <td>[{'Seniority level': 'Not Applicable'}, {'Empl...</td>\n      <td>2022-11-22</td>\n      <td>https://www.linkedin.com/jobs/view/data-analys...</td>\n    </tr>\n    <tr>\n      <th>2</th>\n      <td>Data Analyst</td>\n      <td>PayPal</td>\n      <td>At PayPal (NASDAQ: PYPL), we believe that ever...</td>\n      <td>onsite</td>\n      <td>NaN</td>\n      <td>Texas, United States</td>\n      <td>[{'Seniority level': 'Not Applicable'}, {'Empl...</td>\n      <td>2022-11-17</td>\n      <td>https://www.linkedin.com/jobs/view/data-analys...</td>\n    </tr>\n    <tr>\n      <th>3</th>\n      <td>Data Analyst</td>\n      <td>PayPal</td>\n      <td>At PayPal (NASDAQ: PYPL), we believe that ever...</td>\n      <td>onsite</td>\n      <td>NaN</td>\n      <td>Illinois, United States</td>\n      <td>[{'Seniority level': 'Not Applicable'}, {'Empl...</td>\n      <td>2022-11-17</td>\n      <td>https://www.linkedin.com/jobs/view/data-analys...</td>\n    </tr>\n    <tr>\n      <th>4</th>\n      <td>Entry-Level Data Analyst</td>\n      <td>The Federal Savings Bank</td>\n      <td>The Federal Savings Bank, a national bank and ...</td>\n      <td>onsite</td>\n      <td>NaN</td>\n      <td>Chicago, IL</td>\n      <td>[{'Seniority level': 'Entry level'}, {'Employm...</td>\n      <td>2022-11-17</td>\n      <td>https://www.linkedin.com/jobs/view/entry-level...</td>\n    </tr>\n    <tr>\n      <th>...</th>\n      <td>...</td>\n      <td>...</td>\n      <td>...</td>\n      <td>...</td>\n      <td>...</td>\n      <td>...</td>\n      <td>...</td>\n      <td>...</td>\n      <td>...</td>\n    </tr>\n    <tr>\n      <th>2840</th>\n      <td>Junior Data Analyst</td>\n      <td>Iris Software Inc.</td>\n      <td>Iris's client, one of the world's largest fina...</td>\n      <td>hybrid</td>\n      <td>NaN</td>\n      <td>Texas, United States</td>\n      <td>[{'Seniority level': 'Mid-Senior level'}, {'Em...</td>\n      <td>2022-10-21</td>\n      <td>https://www.linkedin.com/jobs/view/junior-data...</td>\n    </tr>\n    <tr>\n      <th>2841</th>\n      <td>Data Analyst (SQL)</td>\n      <td>Marwood Group</td>\n      <td>The Marwood Group (Marwood) is a leading healt...</td>\n      <td>hybrid</td>\n      <td>$75,000.00\\r\\n            -\\r\\n            $95...</td>\n      <td>New York City Metropolitan Area</td>\n      <td>[{'Seniority level': 'Mid-Senior level'}, {'Em...</td>\n      <td>2022-10-26</td>\n      <td>https://www.linkedin.com/jobs/view/data-analys...</td>\n    </tr>\n    <tr>\n      <th>2842</th>\n      <td>Data Analyst</td>\n      <td>SmartSense by Digi</td>\n      <td>Join a high-performing, tight-knit team at a f...</td>\n      <td>hybrid</td>\n      <td>NaN</td>\n      <td>Mishawaka, IN</td>\n      <td>[{'Seniority level': 'Associate'}, {'Employmen...</td>\n      <td>2022-11-17</td>\n      <td>https://www.linkedin.com/jobs/view/data-analys...</td>\n    </tr>\n    <tr>\n      <th>2843</th>\n      <td>Data Analyst</td>\n      <td>Synergy Search</td>\n      <td>Nashville (Berry Hill) based company looking t...</td>\n      <td>hybrid</td>\n      <td>$85,000.00\\r\\n            -\\r\\n            $95...</td>\n      <td>Nashville Metropolitan Area</td>\n      <td>[{'Seniority level': 'Not Applicable'}, {'Empl...</td>\n      <td>2022-11-14</td>\n      <td>https://www.linkedin.com/jobs/view/data-analys...</td>\n    </tr>\n    <tr>\n      <th>2844</th>\n      <td>Data Analyst</td>\n      <td>Insight Global</td>\n      <td>Overview - Minimum 5 years in a quantitative d...</td>\n      <td>hybrid</td>\n      <td>$130,000.00\\r\\n            -\\r\\n            $1...</td>\n      <td>Burbank, CA</td>\n      <td>[{'Seniority level': 'Mid-Senior level'}, {'Em...</td>\n      <td>2022-11-14</td>\n      <td>https://www.linkedin.com/jobs/view/data-analys...</td>\n    </tr>\n  </tbody>\n</table>\n<p>2845 rows × 9 columns</p>\n</div>"
     },
     "execution_count": 3,
     "metadata": {},
     "output_type": "execute_result"
    }
   ],
   "source": [
    "# Assume that `profile_vectors` and `job_posting_vectors` are dictionaries where\n",
    "# the keys are the IDs of the profiles/job postings and the values are the corresponding vectors.\n",
    "\n",
    "\n",
    "# Create metadata for job postings\n",
    "job_posting_metadata = {id: job_posting for id, job_posting in zip(job_posting_vectors.keys(), job_postings)}\n",
    "\n",
    "# Upload metadata to Pinecone\n",
    "pinecone.upsert_metadata(index_name=index_name, metadata=profile_metadata)\n",
    "pinecone.upsert_metadata(index_name=index_name, metadata=job_posting_metadata)\n"
   ],
   "metadata": {
    "collapsed": false,
    "ExecuteTime": {
     "start_time": "2023-06-22T18:42:39.858962Z",
     "end_time": "2023-06-22T18:42:39.903003Z"
    }
   }
  },
  {
   "cell_type": "code",
   "execution_count": 46,
   "outputs": [
    {
     "data": {
      "text/plain": "{'dimension': 1536,\n 'index_fullness': 0.0,\n 'namespaces': {'': {'vector_count': 5}},\n 'total_vector_count': 5}"
     },
     "execution_count": 46,
     "metadata": {},
     "output_type": "execute_result"
    }
   ],
   "source": [
    "index.describe_index_stats()"
   ],
   "metadata": {
    "collapsed": false,
    "ExecuteTime": {
     "start_time": "2023-06-22T19:50:44.868836Z",
     "end_time": "2023-06-22T19:50:46.058617Z"
    }
   }
  },
  {
   "cell_type": "markdown",
   "source": [
    "# 1. Similarity of JD and Candidate: For each JD find the most similar profiles\n",
    "# 2. adjust the template of langchain to JD and candidate\n",
    "# 3. Evaluator candidate.\n",
    "# 4. Where do we save the output and how we use that output?"
   ],
   "metadata": {
    "collapsed": false
   }
  },
  {
   "cell_type": "code",
   "execution_count": null,
   "outputs": [],
   "source": [],
   "metadata": {
    "collapsed": false
   }
  }
 ],
 "metadata": {
  "kernelspec": {
   "display_name": "Python 3",
   "language": "python",
   "name": "python3"
  },
  "language_info": {
   "codemirror_mode": {
    "name": "ipython",
    "version": 2
   },
   "file_extension": ".py",
   "mimetype": "text/x-python",
   "name": "python",
   "nbconvert_exporter": "python",
   "pygments_lexer": "ipython2",
   "version": "2.7.6"
  }
 },
 "nbformat": 4,
 "nbformat_minor": 0
}
