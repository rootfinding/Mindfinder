{
 "cells": [
  {
   "cell_type": "code",
   "execution_count": 1,
   "metadata": {
    "ExecuteTime": {
     "end_time": "2023-06-22T19:22:31.341189Z",
     "start_time": "2023-06-22T19:22:31.336313Z"
    }
   },
   "outputs": [],
   "source": [
    "import os\n",
    "import pandas as pd\n",
    "#load from json .creds/PINECONE_API\n",
    "import json\n",
    "with open('.creds/PINECONE_API') as f:\n",
    "    creds = json.load(f)\n",
    "    PINECONE_API_KEY = creds['PINECONE_API_KEY']\n",
    "    PINECONE_ENVIRONMENT = creds['PINECONE_ENVIRONMENT']\n",
    "    OPENAI_API_KEY = creds['OPENAI_API_KEY']\n",
    "\n",
    "os.environ[\"OPENAI_API_KEY\"] = OPENAI_API_KEY"
   ]
  },
  {
   "cell_type": "code",
   "execution_count": 2,
   "metadata": {
    "ExecuteTime": {
     "end_time": "2023-06-22T18:49:01.829536Z",
     "start_time": "2023-06-22T18:49:01.792891Z"
    }
   },
   "outputs": [],
   "source": [
    "path_jobs = \"data/linkedin/job_posting.json\"\n",
    "path_profiles = \"data/linkedin/profiles.json\"\n",
    "\n",
    "import json\n",
    "\n",
    "# Read profiles.json\n",
    "with open(path_profiles, 'r') as f:\n",
    "    profiles = json.load(f)\n",
    "\n",
    "# Read job_posting.json\n",
    "with open(path_jobs, 'r') as f:\n",
    "    job_postings = json.load(f)\n"
   ]
  },
  {
   "cell_type": "markdown",
   "metadata": {},
   "source": [
    "# Create upload function\n",
    "\n",
    "* We have list with a dictonary as the template.\n",
    "\n",
    "1. We need to create an embeddigns or summary for each jobposting and candidate\n",
    "2. Append that embedding to the dictionary (to use the list and create a new key \"embedding\")\n"
   ]
  },
  {
   "cell_type": "code",
   "execution_count": 3,
   "metadata": {
    "ExecuteTime": {
     "end_time": "2023-06-22T19:12:20.363015Z",
     "start_time": "2023-06-22T19:12:17.665827Z"
    }
   },
   "outputs": [],
   "source": [
    "from langchain.embeddings.openai import OpenAIEmbeddings\n",
    "\n",
    "model_name = 'text-embedding-ada-002'\n",
    "\n",
    "embed = OpenAIEmbeddings(\n",
    "    model=model_name,\n",
    "    openai_api_key=OPENAI_API_KEY\n",
    ")"
   ]
  },
  {
   "cell_type": "markdown",
   "metadata": {},
   "source": [
    "Create for all data of id a \"text\" chunk and append it to a list. Then modify the keys of the example to test"
   ]
  },
  {
   "cell_type": "code",
   "execution_count": 4,
   "metadata": {
    "ExecuteTime": {
     "end_time": "2023-06-22T19:27:28.450518Z",
     "start_time": "2023-06-22T19:24:42.583997Z"
    }
   },
   "outputs": [
    {
     "name": "stderr",
     "output_type": "stream",
     "text": [
      "/nas/home/syjoshi/miniconda3/envs/mf/lib/python3.8/site-packages/pinecone/index.py:4: TqdmExperimentalWarning: Using `tqdm.autonotebook.tqdm` in notebook mode. Use `tqdm.tqdm` instead to force console mode (e.g. in jupyter console)\n",
      "  from tqdm.autonotebook import tqdm\n"
     ]
    }
   ],
   "source": [
    "index_name = 'linkedin'\n",
    "\n",
    "import pinecone\n",
    "\n",
    "\n",
    "pinecone.init(\n",
    "    api_key=PINECONE_API_KEY,\n",
    "    environment=PINECONE_ENVIRONMENT\n",
    ")\n",
    "\n",
    "if index_name not in pinecone.list_indexes():\n",
    "    # we create a new index\n",
    "    pinecone.create_index(\n",
    "        name=index_name,\n",
    "        metric='cosine',\n",
    "        dimension=1536  # 1536 dim of text-embedding-ada-002\n",
    "    )\n",
    "\n",
    "index = pinecone.GRPCIndex(index_name)"
   ]
  },
  {
   "cell_type": "code",
   "execution_count": 5,
   "metadata": {
    "ExecuteTime": {
     "end_time": "2023-06-22T19:28:26.839561Z",
     "start_time": "2023-06-22T19:28:26.835014Z"
    }
   },
   "outputs": [],
   "source": [
    "from langchain.text_splitter import RecursiveCharacterTextSplitter\n",
    "import tiktoken\n",
    "\n",
    "tokenizer = tiktoken.get_encoding('cl100k_base')\n",
    "\n",
    "def tiktoken_len(text):\n",
    "    tokens = tokenizer.encode(\n",
    "        text,\n",
    "        disallowed_special=()\n",
    "    )\n",
    "    return len(tokens)\n",
    "\n",
    "text_splitter = RecursiveCharacterTextSplitter(\n",
    "    chunk_size=400,\n",
    "    chunk_overlap=20,\n",
    "    length_function=tiktoken_len,\n",
    "    separators=[\"\\n\\n\", \"\\n\", \" \", \"\"]\n",
    ")"
   ]
  },
  {
   "cell_type": "code",
   "execution_count": 6,
   "metadata": {
    "ExecuteTime": {
     "end_time": "2023-06-22T19:31:13.846186Z",
     "start_time": "2023-06-22T19:31:13.836745Z"
    }
   },
   "outputs": [
    {
     "data": {
      "text/plain": [
       "[{'id': 1,\n",
       "  'name': 'Saurav Joshi',\n",
       "  'url': 'https://www.linkedin.com/in/saurav-joshi-ab58a9179/',\n",
       "  'title': \"M.S. Data Science @ USC'24 | GSoC'22 @ DBpedia | ICPC'20 Regionalist\",\n",
       "  'location': 'Los Angeles, CA',\n",
       "  'summary': '',\n",
       "  'connections': '427',\n",
       "  'experience_count': '2',\n",
       "  'experience_collection': [{'title': 'Research Scientist',\n",
       "    'location': 'Marina del Rey, California',\n",
       "    'company': 'USC Information Sciences Institute',\n",
       "    'description': 'Developed a graph database by aggregating information from WikiData, PDF, and FoodKG, and created a backend design for a knowledge-powered understanding application. Extracted meaningful insights from PDFs and applied machine learning algorithms and statistical knowledge to build a recommendation system that recommended food products that are more sustainable. Awarded Best Data Science Team Leader at USC Information Sciences Institute CKIDS Datafest 2022.'},\n",
       "   {'title': 'Data Scientist',\n",
       "    'location': 'Mumbai, Maharashtra',\n",
       "    'company': 'GSPL',\n",
       "    'description': 'Developed an end-to-end sales prediction application for a commodity firm, applied Information Gain, Chi-Square Test feature selection methods, and created an ARIMA model which improved the prediction accuracy by 12%. Constructed a Conversational AI Assistant for the Legal Industry, introducing new features namely multiple intent recognition, recommendation system that increased customer engagement and saved the company’s cost. Implemented a Few-Shot Learning Approach with Siamese Neural Network to overcome the problem of insufficient training data for the Conversation AI Assistant to improve the text classification accuracy and also designed data science and technology-related articles on Medium to help the community by sharing concepts and code.'}]},\n",
       " {'id': 2,\n",
       "  'name': 'Shamit Kikani',\n",
       "  'url': 'https://www.linkedin.com/in/shamitkikani/',\n",
       "  'title': 'Data Analyst | University of Michigan | SpaceX',\n",
       "  'location': 'Austin, TX',\n",
       "  'summary': 'Industrial Engineer specializing in Data Science and Operations Research. I aspire to work towards practical implementation of data science, machine learning and process optimization techniques for end-user and business gain.Industrial Engineer specializing in Data Science and Operations Research. I aspire to work towards practical implementation of data science, machine learning and process optimization techniques for end-user and business gain.',\n",
       "  'connections': '700',\n",
       "  'experience_count': '1',\n",
       "  'experience_collection': [{'title': 'Supply Chain Data Analyst',\n",
       "    'location': 'Piscataway, New Jersey',\n",
       "    'company': 'Johnson & Johnson',\n",
       "    'description': 'Developed a web-scraping algorithm in Python leading to improved tracking of consumer product shipments by 80% on strategic routes • Created a globally automated process to evaluate bids from freight carriers, and minimized transportation costs by $18mn through network optimization • Generated inventory forecasts for medical devices across 3,000 warehouses by performing time-series analysis on demand and supply data • Implemented Python scripts to extract unstructured data from websites and mailboxes, maintaining data integrity across SQL and SAP databases • Data analysis and visualizations for process flows and standardized KPIs • Social Media Chair for the ‘Intern and Co-op Association’ at J&J'}]},\n",
       " {'id': 3,\n",
       "  'name': 'Scott Chlebos',\n",
       "  'url': 'https://www.linkedin.com/in/scottchlebos/',\n",
       "  'title': 'VP of HR & Talent',\n",
       "  'location': 'Austin, TX',\n",
       "  'summary': \"My background is thriving in a startup and private equity environments in which little to no Talent Acquisition (TA) or HR processes have been created. In my career, I have had the opportunity to sit in every single HR function to allow me to gain a broad range of breadth and depth experience in TA and all other HR functions, including payroll. With my broad range of experience, I bring value to any company by being able to offset the need to hire additional headcount when most HR leaders have to because they don't have the understanding in a particular HR area.\",\n",
       "  'connections': '500+',\n",
       "  'experience_count': '2',\n",
       "  'experience_collection': [{'title': 'VP of HR & Talent',\n",
       "    'location': 'Austin, Texas',\n",
       "    'company': \"Willie's Restaurants\",\n",
       "    'description': \"Oversee TA & HR for leading Texas based scratch brand casual dining concept. Willie's is equity backed by CIC out of Dallas. I have created a best in class HR function as we are now embarking into unprecedented growth beginning in 2023.\"},\n",
       "   {'title': 'VP of HR & Talent',\n",
       "    'location': 'Austin, Texas',\n",
       "    'company': 'Edgile',\n",
       "    'description': 'Oversaw TA & HR for Private Equity Series A leading consulting firm. Position was eliminated due to Covid-19.Oversaw TA & HR for Private Equity Series A leading consulting firm. Position was eliminated due to Covid-19.'}]},\n",
       " {'id': 4,\n",
       "  'name': 'Michael McCann',\n",
       "  'url': 'https://www.linkedin.com/in/michaelhmccann/',\n",
       "  'title': 'Georgetown Masters of Science in Finance | Senior Cybersecurity Networks Professional TS/SCI Clearance',\n",
       "  'location': 'Columbia, MD',\n",
       "  'summary': 'I am driven to achieve success at the highest level while supporting those around me. Whether that drive is applied to leading cybersecurity network analysis or engineering systems for the United States Navy, playing professional baseball for the Kansas City Royals, earning a Masters of Science in Finance from Georgetown University, or completing an Ironman race - I have always had passion for taking on a significant challenge.',\n",
       "  'connections': '500+',\n",
       "  'experience_count': '2',\n",
       "  'experience_collection': [{'title': 'Senior Cybersecurity Network Professional',\n",
       "    'location': 'Fort George G. Meade, Maryland',\n",
       "    'company': 'US Navy',\n",
       "    'description': 'Senior analyst in Cyber Protection Team - Performs proactive threat hunts and reactive incident responses (IR) on customer networks in order to identify malicious cyber activities, to harden customer networks, and to provide advanced security recommendations to C-Suite level management.'},\n",
       "   {'title': 'Auditor',\n",
       "    'location': 'Seattle, Washington',\n",
       "    'company': 'EY',\n",
       "    'description': 'Skills: Financial Analysis · General Ledgers · Microsoft PowerPoint · Microsoft Office · Microsoft Excel · Financial Reporting · Finance'}]},\n",
       " {'id': 5,\n",
       "  'name': 'Philman Tjong, EIT',\n",
       "  'url': 'https://www.linkedin.com/in/philmanstjong/',\n",
       "  'title': 'LADWP Electrical Engineer Associate',\n",
       "  'location': 'El Monte, CA',\n",
       "  'summary': 'My educational emphasis was in power systems/ engineering at the University of California, San Diego. I developed a particular passion for renewable energy resources and sustainability topics in the field of engineering. My philosophy in the benefit of the community/ public goes hand-in-hand with the progression of renewable energy.',\n",
       "  'connections': '490',\n",
       "  'experience_count': '2',\n",
       "  'experience_collection': [{'title': 'Electrical Engineer Associate 1',\n",
       "    'location': 'Los Angeles County, California',\n",
       "    'company': 'LADWP',\n",
       "    'description': 'Currently learning and working with the Control Systems Network Engineering'},\n",
       "   {'title': 'Electrical and Computer Engineering Instructional Assistant',\n",
       "    'location': 'San Diego, California',\n",
       "    'company': 'UCSD',\n",
       "    'description': 'Assisted in classes pertaining to Power Grid Modernization and Power Grid Resiliency to Adverse Effects + Assisted the professor in the course material, proctoring exams, grading assignments, and tutoring any students on the course knowledge'}]}]"
      ]
     },
     "execution_count": 6,
     "metadata": {},
     "output_type": "execute_result"
    }
   ],
   "source": [
    "profiles"
   ]
  },
  {
   "cell_type": "code",
   "execution_count": 7,
   "metadata": {
    "ExecuteTime": {
     "end_time": "2023-06-22T19:32:08.665691Z",
     "start_time": "2023-06-22T19:32:08.657387Z"
    }
   },
   "outputs": [
    {
     "data": {
      "text/plain": [
       "{'id': 1,\n",
       " 'name': 'Saurav Joshi',\n",
       " 'url': 'https://www.linkedin.com/in/saurav-joshi-ab58a9179/',\n",
       " 'title': \"M.S. Data Science @ USC'24 | GSoC'22 @ DBpedia | ICPC'20 Regionalist\",\n",
       " 'location': 'Los Angeles, CA',\n",
       " 'summary': '',\n",
       " 'connections': '427',\n",
       " 'experience_count': '2',\n",
       " 'experience_collection': [{'title': 'Research Scientist',\n",
       "   'location': 'Marina del Rey, California',\n",
       "   'company': 'USC Information Sciences Institute',\n",
       "   'description': 'Developed a graph database by aggregating information from WikiData, PDF, and FoodKG, and created a backend design for a knowledge-powered understanding application. Extracted meaningful insights from PDFs and applied machine learning algorithms and statistical knowledge to build a recommendation system that recommended food products that are more sustainable. Awarded Best Data Science Team Leader at USC Information Sciences Institute CKIDS Datafest 2022.'},\n",
       "  {'title': 'Data Scientist',\n",
       "   'location': 'Mumbai, Maharashtra',\n",
       "   'company': 'GSPL',\n",
       "   'description': 'Developed an end-to-end sales prediction application for a commodity firm, applied Information Gain, Chi-Square Test feature selection methods, and created an ARIMA model which improved the prediction accuracy by 12%. Constructed a Conversational AI Assistant for the Legal Industry, introducing new features namely multiple intent recognition, recommendation system that increased customer engagement and saved the company’s cost. Implemented a Few-Shot Learning Approach with Siamese Neural Network to overcome the problem of insufficient training data for the Conversation AI Assistant to improve the text classification accuracy and also designed data science and technology-related articles on Medium to help the community by sharing concepts and code.'}]}"
      ]
     },
     "execution_count": 7,
     "metadata": {},
     "output_type": "execute_result"
    }
   ],
   "source": [
    "profiles[0]"
   ]
  },
  {
   "cell_type": "code",
   "execution_count": 10,
   "metadata": {
    "ExecuteTime": {
     "end_time": "2023-06-22T19:49:20.754766Z",
     "start_time": "2023-06-22T19:49:19.130351Z"
    }
   },
   "outputs": [
    {
     "name": "stdout",
     "output_type": "stream",
     "text": [
      "********************\n",
      "********************\n",
      "********************\n",
      "********************\n",
      "********************\n",
      "********************\n",
      "********************\n",
      "********************\n",
      "********************\n",
      "********************\n"
     ]
    }
   ],
   "source": [
    "from uuid import uuid4\n",
    "\n",
    "batch_limit = 100\n",
    "\n",
    "texts = []\n",
    "metadatas = []\n",
    "\n",
    "for i, record in enumerate(profiles):\n",
    "    # first get metadata fields for this record\n",
    "    metadata = {\n",
    "        'id': str(record['id']),\n",
    "        'name': str(record['name']),\n",
    "        'url': str(record['url']),\n",
    "        'source':'linkedin',\n",
    "        'location': record['location'],\n",
    "        'experience_count': record['experience_count'],\n",
    "        'connections': record['connections'],\n",
    "    }\n",
    "    #concatenate all keys and corresponding values of a nested profile[i] in a text feature\n",
    "    result = \"\"\n",
    "    for key, value in profiles[i].items():\n",
    "        if key == \"experience_collection\":\n",
    "            for experience in value:\n",
    "                for sub_key, sub_value in experience.items():\n",
    "                    result += sub_key+ \" \" +sub_value + \" \"\n",
    "                result += \"\\n\"\n",
    "        else:\n",
    "            result += key + \" \" + str(value) + \" \"\n",
    "    # now we create chunks from the record text\n",
    "    record_texts = text_splitter.split_text(result)\n",
    "    print(\"*\"*20)\n",
    "\n",
    "    # create individual metadata dicts for each chunk\n",
    "    record_metadatas = [{\n",
    "        \"chunk\": j, \"text\": text, **metadata\n",
    "    } for j, text in enumerate(record_texts)]\n",
    "\n",
    "    # append these to current batches\n",
    "    texts.extend(record_texts)\n",
    "    metadatas.extend(record_metadatas)\n",
    "    print(\"*\"*20)\n",
    "    # if we have reached the batch_limit we can add texts\n",
    "    if len(texts) >= batch_limit:\n",
    "        ids = [str(uuid4()) for _ in range(len(texts))]\n",
    "        embeds = embed.embed_documents(texts)\n",
    "        index.upsert(vectors=zip(ids, embeds, metadatas))\n",
    "        texts = []\n",
    "        metadatas = []\n",
    "\n",
    "if len(texts) > 0:\n",
    "    ids = [str(uuid4()) for _ in range(len(texts))]\n",
    "    embeds = embed.embed_documents(texts)\n",
    "    index.upsert(vectors=zip(ids, embeds, metadatas))"
   ]
  },
  {
   "cell_type": "code",
   "execution_count": 11,
   "metadata": {
    "ExecuteTime": {
     "end_time": "2023-06-22T19:49:22.867495Z",
     "start_time": "2023-06-22T19:49:22.854672Z"
    }
   },
   "outputs": [
    {
     "name": "stdout",
     "output_type": "stream",
     "text": [
      "Finished\n"
     ]
    }
   ],
   "source": [
    "print(\"Finished\")"
   ]
  },
  {
   "cell_type": "code",
   "execution_count": 12,
   "metadata": {
    "ExecuteTime": {
     "end_time": "2023-06-22T19:50:46.058617Z",
     "start_time": "2023-06-22T19:50:44.868836Z"
    }
   },
   "outputs": [
    {
     "data": {
      "text/plain": [
       "{'dimension': 1536,\n",
       " 'index_fullness': 0.0,\n",
       " 'namespaces': {'': {'vector_count': 5}},\n",
       " 'total_vector_count': 5}"
      ]
     },
     "execution_count": 12,
     "metadata": {},
     "output_type": "execute_result"
    }
   ],
   "source": [
    "index.describe_index_stats()"
   ]
  },
  {
   "cell_type": "markdown",
   "metadata": {},
   "source": [
    "We dont need another index for job posting as that will be the user query based on which we will match the user profile. Maybe we require if we doing 2 way search"
   ]
  },
  {
   "cell_type": "markdown",
   "metadata": {},
   "source": [
    "## Semantic Search"
   ]
  },
  {
   "cell_type": "markdown",
   "metadata": {},
   "source": [
    "Lets take a Data Analyst Job posting in Los Angeles as a sample query"
   ]
  },
  {
   "cell_type": "code",
   "execution_count": 13,
   "metadata": {},
   "outputs": [
    {
     "name": "stdout",
     "output_type": "stream",
     "text": [
      "id 1 title Data Analyst company London Approach description The ideal candidate for the Data Analyst/Financial Analyst position will use their passion for data and analytics to provide insights to the business covering a range of topics. They will be responsible for conducting both recurring and ad hoc analysis for business users.Salary: $100-120kSchedule: 4 days a week onsite & 1 day remote (usually Friday)ResponsibilitiesUnderstand the day-to-day issues that our business faces, which can be better understood with dataCompile and analyze data related to business' issuesDevelop clear visualizations to convey complicated data in a straightforward fashionCollaboratively build financial models and reportsReview and track trendsInvestigate and research discrepanciesMaintain system and code information in systemCompile and analyze dataPrepare and analyze operations and financialsBuild trend reportsQualificationsBachelor's or Master's degree in Accounting or Finance2+ years of relevant data analysis/financial analysis work onsite_remote onsite salary 100000 location_city Los Angeles location_state CA Seniority level Associate Employment type Full-time Job function Finance Industries Hospitals and Health Care posted_date 2022-11-21 link https://www.linkedin.com/jobs/view/data-analyst-at-london-approach-3358861203?refId=7aKV74baVvH%2FRwNOmaw%2ByA%3D%3D&trackingId=9PyvYSdfQxwZH6rUYZJw8g%3D%3D&position=9&pageNum=0&trk=public_jobs_jserp-result_search-card \n"
     ]
    }
   ],
   "source": [
    "job_posting_query = job_postings[0]\n",
    "job_posting_metadata = job_posting_query\n",
    "job_posting_query = \"\"\n",
    "for key, value in job_posting_metadata.items():\n",
    "    job_posting_query += key + \" \" + str(value) + \" \"\n",
    "print(job_posting_query)"
   ]
  },
  {
   "cell_type": "code",
   "execution_count": 14,
   "metadata": {
    "ExecuteTime": {
     "end_time": "2023-06-22T18:42:39.903003Z",
     "start_time": "2023-06-22T18:42:39.858962Z"
    }
   },
   "outputs": [
    {
     "data": {
      "text/plain": [
       "{'id': 1,\n",
       " 'title': 'Data Analyst',\n",
       " 'company': 'London Approach',\n",
       " 'description': \"The ideal candidate for the Data Analyst/Financial Analyst position will use their passion for data and analytics to provide insights to the business covering a range of topics. They will be responsible for conducting both recurring and ad hoc analysis for business users.Salary: $100-120kSchedule: 4 days a week onsite & 1 day remote (usually Friday)ResponsibilitiesUnderstand the day-to-day issues that our business faces, which can be better understood with dataCompile and analyze data related to business' issuesDevelop clear visualizations to convey complicated data in a straightforward fashionCollaboratively build financial models and reportsReview and track trendsInvestigate and research discrepanciesMaintain system and code information in systemCompile and analyze dataPrepare and analyze operations and financialsBuild trend reportsQualificationsBachelor's or Master's degree in Accounting or Finance2+ years of relevant data analysis/financial analysis work\",\n",
       " 'onsite_remote': 'onsite',\n",
       " 'salary': 100000,\n",
       " 'location_city': 'Los Angeles',\n",
       " 'location_state': 'CA',\n",
       " 'Seniority level': 'Associate',\n",
       " 'Employment type': 'Full-time',\n",
       " 'Job function': 'Finance',\n",
       " 'Industries': 'Hospitals and Health Care',\n",
       " 'posted_date': '2022-11-21',\n",
       " 'link': 'https://www.linkedin.com/jobs/view/data-analyst-at-london-approach-3358861203?refId=7aKV74baVvH%2FRwNOmaw%2ByA%3D%3D&trackingId=9PyvYSdfQxwZH6rUYZJw8g%3D%3D&position=9&pageNum=0&trk=public_jobs_jserp-result_search-card'}"
      ]
     },
     "execution_count": 14,
     "metadata": {},
     "output_type": "execute_result"
    }
   ],
   "source": [
    "job_posting_metadata"
   ]
  },
  {
   "cell_type": "code",
   "execution_count": 15,
   "metadata": {},
   "outputs": [],
   "source": [
    "jb_texts = []\n",
    "jb_record_texts = text_splitter.split_text(job_posting_query)\n",
    "record_metadatas = [{\n",
    "    \"chunk\": j, \"text\": text, **metadata\n",
    "} for j, text in enumerate(jb_record_texts)]\n",
    "jb_texts.extend(jb_record_texts)"
   ]
  },
  {
   "cell_type": "code",
   "execution_count": 16,
   "metadata": {},
   "outputs": [],
   "source": [
    "query_vector = embed.embed_documents(jb_texts)\n",
    "query_vector = query_vector[0]"
   ]
  },
  {
   "cell_type": "code",
   "execution_count": 17,
   "metadata": {},
   "outputs": [],
   "source": [
    "query_response = index.query(\n",
    "  vector=query_vector,\n",
    "  top_k=3,\n",
    "  include_metadata=True\n",
    ")"
   ]
  },
  {
   "cell_type": "code",
   "execution_count": 18,
   "metadata": {},
   "outputs": [
    {
     "data": {
      "text/plain": [
       "{'matches': [{'id': '493a919a-14a4-4ab1-aa01-4d70696a9e30',\n",
       "              'metadata': {'chunk': 0.0,\n",
       "                           'connections': '700',\n",
       "                           'experience_count': '1',\n",
       "                           'id': '2',\n",
       "                           'location': 'Austin, TX',\n",
       "                           'name': 'Shamit Kikani',\n",
       "                           'source': 'linkedin',\n",
       "                           'text': 'id 2 name Shamit Kikani url '\n",
       "                                   'https://www.linkedin.com/in/shamitkikani/ '\n",
       "                                   'title Data Analyst | University of '\n",
       "                                   'Michigan | SpaceX location Austin, TX '\n",
       "                                   'summary Industrial Engineer specializing '\n",
       "                                   'in Data Science and Operations Research. I '\n",
       "                                   'aspire to work towards practical '\n",
       "                                   'implementation of data science, machine '\n",
       "                                   'learning and process optimization '\n",
       "                                   'techniques for end-user and business '\n",
       "                                   'gain.Industrial Engineer specializing in '\n",
       "                                   'Data Science and Operations Research. I '\n",
       "                                   'aspire to work towards practical '\n",
       "                                   'implementation of data science, machine '\n",
       "                                   'learning and process optimization '\n",
       "                                   'techniques for end-user and business gain. '\n",
       "                                   'connections 700 experience_count 1 title '\n",
       "                                   'Supply Chain Data Analyst location '\n",
       "                                   'Piscataway, New Jersey company Johnson & '\n",
       "                                   'Johnson description Developed a '\n",
       "                                   'web-scraping algorithm in Python leading '\n",
       "                                   'to improved tracking of consumer product '\n",
       "                                   'shipments by 80% on strategic routes • '\n",
       "                                   'Created a globally automated process to '\n",
       "                                   'evaluate bids from freight carriers, and '\n",
       "                                   'minimized transportation costs by $18mn '\n",
       "                                   'through network optimization • Generated '\n",
       "                                   'inventory forecasts for medical devices '\n",
       "                                   'across 3,000 warehouses by performing '\n",
       "                                   'time-series analysis on demand and supply '\n",
       "                                   'data • Implemented Python scripts to '\n",
       "                                   'extract unstructured data from websites '\n",
       "                                   'and mailboxes, maintaining data integrity '\n",
       "                                   'across SQL and SAP databases • Data '\n",
       "                                   'analysis and visualizations for process '\n",
       "                                   'flows and standardized KPIs • Social Media '\n",
       "                                   'Chair for the ‘Intern and Co-op '\n",
       "                                   'Association’ at J&J',\n",
       "                           'url': 'https://www.linkedin.com/in/shamitkikani/'},\n",
       "              'score': 0.80074316,\n",
       "              'sparse_values': {'indices': [], 'values': []},\n",
       "              'values': []},\n",
       "             {'id': '2a9cf887-93a1-42f2-b464-3c0791de4ae3',\n",
       "              'metadata': {'chunk': 0.0,\n",
       "                           'connections': '427',\n",
       "                           'experience_count': '2',\n",
       "                           'id': '1',\n",
       "                           'location': 'Los Angeles, CA',\n",
       "                           'name': 'Saurav Joshi',\n",
       "                           'source': 'linkedin',\n",
       "                           'text': 'id 1 name Saurav Joshi url '\n",
       "                                   'https://www.linkedin.com/in/saurav-joshi-ab58a9179/ '\n",
       "                                   \"title M.S. Data Science @ USC'24 | GSoC'22 \"\n",
       "                                   \"@ DBpedia | ICPC'20 Regionalist location \"\n",
       "                                   'Los Angeles, CA summary  connections 427 '\n",
       "                                   'experience_count 2 title Research '\n",
       "                                   'Scientist location Marina del Rey, '\n",
       "                                   'California company USC Information '\n",
       "                                   'Sciences Institute description Developed a '\n",
       "                                   'graph database by aggregating information '\n",
       "                                   'from WikiData, PDF, and FoodKG, and '\n",
       "                                   'created a backend design for a '\n",
       "                                   'knowledge-powered understanding '\n",
       "                                   'application. Extracted meaningful insights '\n",
       "                                   'from PDFs and applied machine learning '\n",
       "                                   'algorithms and statistical knowledge to '\n",
       "                                   'build a recommendation system that '\n",
       "                                   'recommended food products that are more '\n",
       "                                   'sustainable. Awarded Best Data Science '\n",
       "                                   'Team Leader at USC Information Sciences '\n",
       "                                   'Institute CKIDS Datafest 2022. \\n'\n",
       "                                   'title Data Scientist location Mumbai, '\n",
       "                                   'Maharashtra company GSPL description '\n",
       "                                   'Developed an end-to-end sales prediction '\n",
       "                                   'application for a commodity firm, applied '\n",
       "                                   'Information Gain, Chi-Square Test feature '\n",
       "                                   'selection methods, and created an ARIMA '\n",
       "                                   'model which improved the prediction '\n",
       "                                   'accuracy by 12%. Constructed a '\n",
       "                                   'Conversational AI Assistant for the Legal '\n",
       "                                   'Industry, introducing new features namely '\n",
       "                                   'multiple intent recognition, '\n",
       "                                   'recommendation system that increased '\n",
       "                                   'customer engagement and saved the '\n",
       "                                   'company’s cost. Implemented a Few-Shot '\n",
       "                                   'Learning Approach with Siamese Neural '\n",
       "                                   'Network to overcome the problem of '\n",
       "                                   'insufficient training data for the '\n",
       "                                   'Conversation AI Assistant to improve the '\n",
       "                                   'text classification accuracy and also '\n",
       "                                   'designed data science and '\n",
       "                                   'technology-related articles on Medium to '\n",
       "                                   'help the community by sharing concepts and '\n",
       "                                   'code.',\n",
       "                           'url': 'https://www.linkedin.com/in/saurav-joshi-ab58a9179/'},\n",
       "              'score': 0.78832966,\n",
       "              'sparse_values': {'indices': [], 'values': []},\n",
       "              'values': []},\n",
       "             {'id': '7d4aacc5-ba47-47fd-bbe1-916e3a716ed6',\n",
       "              'metadata': {'chunk': 0.0,\n",
       "                           'connections': '500+',\n",
       "                           'experience_count': '2',\n",
       "                           'id': '4',\n",
       "                           'location': 'Columbia, MD',\n",
       "                           'name': 'Michael McCann',\n",
       "                           'source': 'linkedin',\n",
       "                           'text': 'id 4 name Michael McCann url '\n",
       "                                   'https://www.linkedin.com/in/michaelhmccann/ '\n",
       "                                   'title Georgetown Masters of Science in '\n",
       "                                   'Finance | Senior Cybersecurity Networks '\n",
       "                                   'Professional TS/SCI Clearance location '\n",
       "                                   'Columbia, MD summary I am driven to '\n",
       "                                   'achieve success at the highest level while '\n",
       "                                   'supporting those around me. Whether that '\n",
       "                                   'drive is applied to leading cybersecurity '\n",
       "                                   'network analysis or engineering systems '\n",
       "                                   'for the United States Navy, playing '\n",
       "                                   'professional baseball for the Kansas City '\n",
       "                                   'Royals, earning a Masters of Science in '\n",
       "                                   'Finance from Georgetown University, or '\n",
       "                                   'completing an Ironman race - I have always '\n",
       "                                   'had passion for taking on a significant '\n",
       "                                   'challenge. connections 500+ '\n",
       "                                   'experience_count 2 title Senior '\n",
       "                                   'Cybersecurity Network Professional '\n",
       "                                   'location Fort George G. Meade, Maryland '\n",
       "                                   'company US Navy description Senior analyst '\n",
       "                                   'in Cyber Protection Team - Performs '\n",
       "                                   'proactive threat hunts and reactive '\n",
       "                                   'incident responses (IR) on customer '\n",
       "                                   'networks in order to identify malicious '\n",
       "                                   'cyber activities, to harden customer '\n",
       "                                   'networks, and to provide advanced security '\n",
       "                                   'recommendations to C-Suite level '\n",
       "                                   'management. \\n'\n",
       "                                   'title Auditor location Seattle, Washington '\n",
       "                                   'company EY description Skills: Financial '\n",
       "                                   'Analysis · General Ledgers · Microsoft '\n",
       "                                   'PowerPoint · Microsoft Office · Microsoft '\n",
       "                                   'Excel · Financial Reporting · Finance',\n",
       "                           'url': 'https://www.linkedin.com/in/michaelhmccann/'},\n",
       "              'score': 0.7831695,\n",
       "              'sparse_values': {'indices': [], 'values': []},\n",
       "              'values': []}],\n",
       " 'namespace': ''}"
      ]
     },
     "execution_count": 18,
     "metadata": {},
     "output_type": "execute_result"
    }
   ],
   "source": [
    "query_response"
   ]
  },
  {
   "cell_type": "markdown",
   "metadata": {},
   "source": [
    "The top retrieved result is a data analyst, 2nd - data scientist, 3rd - cyber"
   ]
  },
  {
   "cell_type": "markdown",
   "metadata": {},
   "source": [
    "## Metadata Filtering"
   ]
  },
  {
   "cell_type": "markdown",
   "metadata": {},
   "source": [
    "Profiles which are most similar to data analyst job role and live in LA"
   ]
  },
  {
   "cell_type": "code",
   "execution_count": 21,
   "metadata": {},
   "outputs": [],
   "source": [
    "query_response = index.query(\n",
    "  vector=query_vector,\n",
    "  filter={\n",
    "    \"location\": {\"$eq\": \"Los Angeles, CA\"},\n",
    "  },\n",
    "  top_k=3,\n",
    "  include_metadata=True\n",
    ")"
   ]
  },
  {
   "cell_type": "code",
   "execution_count": 22,
   "metadata": {},
   "outputs": [
    {
     "data": {
      "text/plain": [
       "{'matches': [{'id': '2a9cf887-93a1-42f2-b464-3c0791de4ae3',\n",
       "              'metadata': {'chunk': 0.0,\n",
       "                           'connections': '427',\n",
       "                           'experience_count': '2',\n",
       "                           'id': '1',\n",
       "                           'location': 'Los Angeles, CA',\n",
       "                           'name': 'Saurav Joshi',\n",
       "                           'source': 'linkedin',\n",
       "                           'text': 'id 1 name Saurav Joshi url '\n",
       "                                   'https://www.linkedin.com/in/saurav-joshi-ab58a9179/ '\n",
       "                                   \"title M.S. Data Science @ USC'24 | GSoC'22 \"\n",
       "                                   \"@ DBpedia | ICPC'20 Regionalist location \"\n",
       "                                   'Los Angeles, CA summary  connections 427 '\n",
       "                                   'experience_count 2 title Research '\n",
       "                                   'Scientist location Marina del Rey, '\n",
       "                                   'California company USC Information '\n",
       "                                   'Sciences Institute description Developed a '\n",
       "                                   'graph database by aggregating information '\n",
       "                                   'from WikiData, PDF, and FoodKG, and '\n",
       "                                   'created a backend design for a '\n",
       "                                   'knowledge-powered understanding '\n",
       "                                   'application. Extracted meaningful insights '\n",
       "                                   'from PDFs and applied machine learning '\n",
       "                                   'algorithms and statistical knowledge to '\n",
       "                                   'build a recommendation system that '\n",
       "                                   'recommended food products that are more '\n",
       "                                   'sustainable. Awarded Best Data Science '\n",
       "                                   'Team Leader at USC Information Sciences '\n",
       "                                   'Institute CKIDS Datafest 2022. \\n'\n",
       "                                   'title Data Scientist location Mumbai, '\n",
       "                                   'Maharashtra company GSPL description '\n",
       "                                   'Developed an end-to-end sales prediction '\n",
       "                                   'application for a commodity firm, applied '\n",
       "                                   'Information Gain, Chi-Square Test feature '\n",
       "                                   'selection methods, and created an ARIMA '\n",
       "                                   'model which improved the prediction '\n",
       "                                   'accuracy by 12%. Constructed a '\n",
       "                                   'Conversational AI Assistant for the Legal '\n",
       "                                   'Industry, introducing new features namely '\n",
       "                                   'multiple intent recognition, '\n",
       "                                   'recommendation system that increased '\n",
       "                                   'customer engagement and saved the '\n",
       "                                   'company’s cost. Implemented a Few-Shot '\n",
       "                                   'Learning Approach with Siamese Neural '\n",
       "                                   'Network to overcome the problem of '\n",
       "                                   'insufficient training data for the '\n",
       "                                   'Conversation AI Assistant to improve the '\n",
       "                                   'text classification accuracy and also '\n",
       "                                   'designed data science and '\n",
       "                                   'technology-related articles on Medium to '\n",
       "                                   'help the community by sharing concepts and '\n",
       "                                   'code.',\n",
       "                           'url': 'https://www.linkedin.com/in/saurav-joshi-ab58a9179/'},\n",
       "              'score': 0.78832966,\n",
       "              'sparse_values': {'indices': [], 'values': []},\n",
       "              'values': []}],\n",
       " 'namespace': ''}"
      ]
     },
     "execution_count": 22,
     "metadata": {},
     "output_type": "execute_result"
    }
   ],
   "source": [
    "query_response"
   ]
  },
  {
   "cell_type": "code",
   "execution_count": null,
   "metadata": {},
   "outputs": [],
   "source": []
  },
  {
   "cell_type": "markdown",
   "metadata": {},
   "source": [
    "# 1. Similarity of JD and Candidate: For each JD find the most similar profiles ============ Done\n",
    "\n",
    "# 2. adjust the template of langchain to JD and candidate\n",
    "\n",
    "# 3. Evaluator candidate.\n",
    "\n",
    "# 4. Where do we save the output and how we use that output?"
   ]
  },
  {
   "cell_type": "code",
   "execution_count": null,
   "metadata": {},
   "outputs": [],
   "source": []
  }
 ],
 "metadata": {
  "kernelspec": {
   "display_name": "Python 3 (ipykernel)",
   "language": "python",
   "name": "python3"
  },
  "language_info": {
   "codemirror_mode": {
    "name": "ipython",
    "version": 3
   },
   "file_extension": ".py",
   "mimetype": "text/x-python",
   "name": "python",
   "nbconvert_exporter": "python",
   "pygments_lexer": "ipython3",
   "version": "3.8.16"
  }
 },
 "nbformat": 4,
 "nbformat_minor": 1
}
